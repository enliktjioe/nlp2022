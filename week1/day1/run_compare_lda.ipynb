{
 "cells": [
  {
   "cell_type": "code",
   "execution_count": null,
   "metadata": {},
   "outputs": [],
   "source": [
    "%matplotlib inline"
   ]
  },
  {
   "cell_type": "markdown",
   "metadata": {},
   "source": [
    "\n",
    "How to Compare LDA Models\n",
    "=========================\n",
    "\n",
    "Demonstrates how you can visualize and compare trained topic models.\n",
    "\n",
    "\n"
   ]
  },
  {
   "cell_type": "code",
   "execution_count": null,
   "metadata": {},
   "outputs": [],
   "source": [
    "# sphinx_gallery_thumbnail_number = 2\n",
    "import logging\n",
    "logging.basicConfig(format='%(asctime)s : %(levelname)s : %(message)s', level=logging.INFO)"
   ]
  },
  {
   "cell_type": "markdown",
   "metadata": {},
   "source": [
    "First, clean up the 20 Newsgroups dataset. We will use it to fit LDA.\n",
    "---------------------------------------------------------------------\n",
    "\n",
    "\n"
   ]
  },
  {
   "cell_type": "code",
   "execution_count": null,
   "metadata": {},
   "outputs": [],
   "source": [
    "from string import punctuation\n",
    "from nltk import RegexpTokenizer\n",
    "from nltk.stem.porter import PorterStemmer\n",
    "from nltk.corpus import stopwords\n",
    "from sklearn.datasets import fetch_20newsgroups\n",
    "\n",
    "\n",
    "newsgroups = fetch_20newsgroups()\n",
    "eng_stopwords = set(stopwords.words('english'))\n",
    "\n",
    "tokenizer = RegexpTokenizer(r'\\s+', gaps=True)\n",
    "stemmer = PorterStemmer()\n",
    "translate_tab = {ord(p): u\" \" for p in punctuation}\n",
    "\n",
    "def text2tokens(raw_text):\n",
    "    \"\"\"Split the raw_text string into a list of stemmed tokens.\"\"\"\n",
    "    clean_text = raw_text.lower().translate(translate_tab)\n",
    "    tokens = [token.strip() for token in tokenizer.tokenize(clean_text)]\n",
    "    tokens = [token for token in tokens if token not in eng_stopwords]\n",
    "    stemmed_tokens = [stemmer.stem(token) for token in tokens]\n",
    "    return [token for token in stemmed_tokens if len(token) > 2]  # skip short tokens\n",
    "\n",
    "dataset = [text2tokens(txt) for txt in newsgroups['data']]  # convert a documents to list of tokens\n",
    "\n",
    "from gensim.corpora import Dictionary\n",
    "dictionary = Dictionary(documents=dataset, prune_at=None)\n",
    "dictionary.filter_extremes(no_below=5, no_above=0.3, keep_n=None)  # use Dictionary to remove un-relevant tokens\n",
    "dictionary.compactify()\n",
    "\n",
    "d2b_dataset = [dictionary.doc2bow(doc) for doc in dataset]  # convert list of tokens to bag of word representation"
   ]
  },
  {
   "cell_type": "markdown",
   "metadata": {},
   "source": [
    "Second, fit two LDA models.\n",
    "---------------------------\n",
    "\n",
    "\n"
   ]
  },
  {
   "cell_type": "code",
   "execution_count": null,
   "metadata": {},
   "outputs": [],
   "source": [
    "from gensim.models import LdaMulticore\n",
    "num_topics = 15\n",
    "\n",
    "lda_fst = LdaMulticore(\n",
    "    corpus=d2b_dataset, num_topics=num_topics, id2word=dictionary,\n",
    "    workers=4, eval_every=None, passes=10, batch=True,\n",
    ")\n",
    "\n",
    "lda_snd = LdaMulticore(\n",
    "    corpus=d2b_dataset, num_topics=num_topics, id2word=dictionary,\n",
    "    workers=4, eval_every=None, passes=20, batch=True,\n",
    ")"
   ]
  },
  {
   "cell_type": "markdown",
   "metadata": {},
   "source": [
    "Time to visualize, yay!\n",
    "-----------------------\n",
    "\n",
    "We use two slightly different visualization methods depending on how you're running this tutorial.\n",
    "If you're running via a Jupyter notebook, then you'll get a nice interactive Plotly heatmap.\n",
    "If you're viewing the static version of the page, you'll get a similar matplotlib heatmap, but it won't be interactive.\n",
    "\n",
    "\n"
   ]
  },
  {
   "cell_type": "code",
   "execution_count": null,
   "metadata": {},
   "outputs": [],
   "source": [
    "def plot_difference_plotly(mdiff, title=\"\", annotation=None):\n",
    "    \"\"\"Plot the difference between models.\n",
    "\n",
    "    Uses plotly as the backend.\"\"\"\n",
    "    import plotly.graph_objs as go\n",
    "    import plotly.offline as py\n",
    "\n",
    "    annotation_html = None\n",
    "    if annotation is not None:\n",
    "        annotation_html = [\n",
    "            [\n",
    "                \"+++ {}<br>--- {}\".format(\", \".join(int_tokens), \", \".join(diff_tokens))\n",
    "                for (int_tokens, diff_tokens) in row\n",
    "            ]\n",
    "            for row in annotation\n",
    "        ]\n",
    "\n",
    "    data = go.Heatmap(z=mdiff, colorscale='RdBu', text=annotation_html)\n",
    "    layout = go.Layout(width=950, height=950, title=title, xaxis=dict(title=\"topic\"), yaxis=dict(title=\"topic\"))\n",
    "    py.iplot(dict(data=[data], layout=layout))\n",
    "\n",
    "\n",
    "def plot_difference_matplotlib(mdiff, title=\"\", annotation=None):\n",
    "    \"\"\"Helper function to plot difference between models.\n",
    "\n",
    "    Uses matplotlib as the backend.\"\"\"\n",
    "    import matplotlib.pyplot as plt\n",
    "    fig, ax = plt.subplots(figsize=(18, 14))\n",
    "    data = ax.imshow(mdiff, cmap='RdBu_r', origin='lower')\n",
    "    plt.title(title)\n",
    "    plt.colorbar(data)\n",
    "\n",
    "\n",
    "try:\n",
    "    get_ipython()\n",
    "    import plotly.offline as py\n",
    "except Exception:\n",
    "    #\n",
    "    # Fall back to matplotlib if we're not in a notebook, or if plotly is\n",
    "    # unavailable for whatever reason.\n",
    "    #\n",
    "    plot_difference = plot_difference_matplotlib\n",
    "else:\n",
    "    py.init_notebook_mode()\n",
    "    plot_difference = plot_difference_plotly"
   ]
  },
  {
   "cell_type": "markdown",
   "metadata": {},
   "source": [
    "Gensim can help you visualise the differences between topics. For this purpose, you can use the ``diff()`` method of LdaModel.\n",
    "\n",
    "``diff()`` returns a matrix with distances **mdiff** and a matrix with annotations **annotation**. Read the docstring for more detailed info.\n",
    "\n",
    "In each **mdiff[i][j]** cell you'll find a distance between **topic_i** from the first model and **topic_j** from the second model.\n",
    "\n",
    "In each **annotation[i][j]** cell you'll find **[tokens from intersection, tokens from difference** between **topic_i** from first model and **topic_j** from the second model.\n",
    "\n",
    "\n"
   ]
  },
  {
   "cell_type": "code",
   "execution_count": null,
   "metadata": {},
   "outputs": [],
   "source": [
    "print(LdaMulticore.diff.__doc__)"
   ]
  },
  {
   "cell_type": "markdown",
   "metadata": {},
   "source": [
    "Case 1: How topics within ONE model correlate with each other.\n",
    "--------------------------------------------------------------\n",
    "\n",
    "\n"
   ]
  },
  {
   "cell_type": "markdown",
   "metadata": {},
   "source": [
    "Short description:\n",
    "\n",
    "* x-axis - topic;\n",
    "\n",
    "* y-axis - topic;\n",
    "\n",
    ".. role:: raw-html-m2r(raw)\n",
    "   :format: html\n",
    "\n",
    "* :raw-html-m2r:`<span style=\"color:red\">almost red cell</span>` - strongly decorrelated topics;\n",
    "\n",
    ".. role:: raw-html-m2r(raw)\n",
    "   :format: html\n",
    "\n",
    "* :raw-html-m2r:`<span style=\"color:blue\">almost blue cell</span>` - strongly correlated topics.\n",
    "\n",
    "In an ideal world, we would like to see different topics decorrelated between themselves.\n",
    "In this case, our matrix would look like this:\n",
    "\n",
    "\n"
   ]
  },
  {
   "cell_type": "code",
   "execution_count": null,
   "metadata": {},
   "outputs": [],
   "source": [
    "import numpy as np\n",
    "\n",
    "mdiff = np.ones((num_topics, num_topics))\n",
    "np.fill_diagonal(mdiff, 0.)\n",
    "plot_difference(mdiff, title=\"Topic difference (one model) in ideal world\")"
   ]
  },
  {
   "cell_type": "markdown",
   "metadata": {},
   "source": [
    "Unfortunately, in real life, not everything is so good, and the matrix looks different.\n",
    "\n",
    "\n"
   ]
  },
  {
   "cell_type": "markdown",
   "metadata": {},
   "source": [
    "Short description (interactive annotations only):\n",
    "\n",
    "* ``+++ make, world, well`` - words from the intersection of topics = present in both topics;\n",
    "\n",
    "* ``--- money, day, still`` - words from the symmetric difference of topics = present in one topic but not the other.\n",
    "\n",
    "\n"
   ]
  },
  {
   "cell_type": "code",
   "execution_count": null,
   "metadata": {},
   "outputs": [],
   "source": [
    "mdiff, annotation = lda_fst.diff(lda_fst, distance='jaccard', num_words=50)\n",
    "plot_difference(mdiff, title=\"Topic difference (one model) [jaccard distance]\", annotation=annotation)"
   ]
  },
  {
   "cell_type": "markdown",
   "metadata": {},
   "source": [
    "If you compare a model with itself, you want to see as many red elements as\n",
    "possible (except on the diagonal). With this picture, you can look at the\n",
    "\"not very red elements\" and understand which topics in the model are very\n",
    "similar and why (you can read annotation if you move your pointer to cell).\n",
    "\n",
    "Jaccard is a stable and robust distance function, but sometimes not sensitive\n",
    "enough. Let's try to use the Hellinger distance instead.\n",
    "\n",
    "\n"
   ]
  },
  {
   "cell_type": "code",
   "execution_count": null,
   "metadata": {},
   "outputs": [],
   "source": [
    "mdiff, annotation = lda_fst.diff(lda_fst, distance='hellinger', num_words=50)\n",
    "plot_difference(mdiff, title=\"Topic difference (one model)[hellinger distance]\", annotation=annotation)"
   ]
  },
  {
   "cell_type": "markdown",
   "metadata": {},
   "source": [
    "You see that everything has become worse, but remember that everything depends on the task.\n",
    "\n",
    "Choose a distance function that matches your upstream task better: what kind of \"similarity\" is\n",
    "relevant to you. From my (Ivan's) experience, Jaccard is fine.\n",
    "\n",
    "\n"
   ]
  },
  {
   "cell_type": "markdown",
   "metadata": {},
   "source": [
    "Case 2: How topics from DIFFERENT models correlate with each other.\n",
    "-------------------------------------------------------------------\n",
    "\n",
    "\n"
   ]
  },
  {
   "cell_type": "markdown",
   "metadata": {},
   "source": [
    "Sometimes, we want to look at the patterns between two different models and compare them.\n",
    "\n",
    "You can do this by constructing a matrix with the difference.\n",
    "\n",
    "\n"
   ]
  },
  {
   "cell_type": "code",
   "execution_count": null,
   "metadata": {},
   "outputs": [],
   "source": [
    "mdiff, annotation = lda_fst.diff(lda_snd, distance='jaccard', num_words=50)\n",
    "plot_difference(mdiff, title=\"Topic difference (two models)[jaccard distance]\", annotation=annotation)"
   ]
  },
  {
   "cell_type": "markdown",
   "metadata": {},
   "source": [
    "Looking at this matrix, you can find similar and different topics between the two models.\n",
    "The plot also includes relevant tokens describing the topics' intersection and difference.\n",
    "\n",
    "\n"
   ]
  }
 ],
 "metadata": {
  "kernelspec": {
   "display_name": "Python 3",
   "language": "python",
   "name": "python3"
  },
  "language_info": {
   "codemirror_mode": {
    "name": "ipython",
    "version": 3
   },
   "file_extension": ".py",
   "mimetype": "text/x-python",
   "name": "python",
   "nbconvert_exporter": "python",
   "pygments_lexer": "ipython3",
   "version": "3.8.8"
  }
 },
 "nbformat": 4,
 "nbformat_minor": 1
}
