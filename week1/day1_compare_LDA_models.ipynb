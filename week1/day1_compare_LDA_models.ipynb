{
 "cells": [
  {
   "cell_type": "markdown",
   "id": "deb00c7f",
   "metadata": {},
   "source": [
    "# Reference\n",
    "\n",
    "- https://radimrehurek.com/gensim/auto_examples/howtos/run_compare_lda.html#sphx-glr-auto-examples-howtos-run-compare-lda-py"
   ]
  },
  {
   "cell_type": "code",
   "execution_count": 1,
   "id": "0a183aba",
   "metadata": {},
   "outputs": [],
   "source": [
    "# sphinx_gallery_thumbnail_number = 2\n",
    "import logging\n",
    "logging.basicConfig(format='%(asctime)s : %(levelname)s : %(message)s', level=logging.INFO)"
   ]
  },
  {
   "cell_type": "code",
   "execution_count": 5,
   "id": "04b5e402",
   "metadata": {},
   "outputs": [
    {
     "name": "stderr",
     "output_type": "stream",
     "text": [
      "[nltk_data] Downloading package stopwords to /Users/enlik/nltk_data...\n",
      "[nltk_data]   Unzipping corpora/stopwords.zip.\n"
     ]
    },
    {
     "data": {
      "text/plain": [
       "True"
      ]
     },
     "execution_count": 5,
     "metadata": {},
     "output_type": "execute_result"
    }
   ],
   "source": [
    "## Download stopword if it's not available yet\n",
    "# import nltk\n",
    "# nltk.download('stopwords')"
   ]
  },
  {
   "cell_type": "code",
   "execution_count": 7,
   "id": "52cc5bf2",
   "metadata": {},
   "outputs": [],
   "source": [
    "from string import punctuation\n",
    "from nltk import RegexpTokenizer\n",
    "from nltk.stem.porter import PorterStemmer\n",
    "from nltk.corpus import stopwords\n",
    "from sklearn.datasets import fetch_20newsgroups\n",
    "\n",
    "# Clean up the 20 Newsgroup dataset, will be used to fit LDA\n",
    "newsgroups = fetch_20newsgroups()\n",
    "eng_stopwords = set(stopwords.words('english'))\n",
    "\n",
    "tokenizer = RegexpTokenizer(r'\\s+', gaps=True)\n",
    "stemmer = PorterStemmer()\n",
    "translate_tab = {ord(p): u\" \" for p in punctuation}\n",
    "\n",
    "def text2tokens(raw_text):\n",
    "    \"\"\"Split the raw_text string into a list of stemmed tokens.\"\"\"\n",
    "    clean_text = raw_text.lower().translate(translate_tab)\n",
    "    tokens = [token.strip() for token in tokenizer.tokenize(clean_text)]\n",
    "    tokens = [token for token in tokens if token not in eng_stopwords]\n",
    "    stemmed_tokens = [stemmer.stem(token) for token in tokens]\n",
    "    return [token for token in stemmed_tokens if len(token) > 2]  # skip short tokens\n",
    "\n",
    "dataset = [text2tokens(txt) for txt in newsgroups['data']]  # convert a documents to list of tokens"
   ]
  },
  {
   "cell_type": "code",
   "execution_count": 8,
   "id": "51cf1947",
   "metadata": {},
   "outputs": [
    {
     "name": "stderr",
     "output_type": "stream",
     "text": [
      "2022-06-02 23:41:54,210 : INFO : adding document #0 to Dictionary<0 unique tokens: []>\n",
      "2022-06-02 23:41:56,319 : INFO : adding document #10000 to Dictionary<95280 unique tokens: ['addit', 'anyon', 'bodi', 'bricklin', 'brought']...>\n",
      "2022-06-02 23:41:56,608 : INFO : built Dictionary<105671 unique tokens: ['addit', 'anyon', 'bodi', 'bricklin', 'brought']...> from 11314 documents (total 1922370 corpus positions)\n",
      "2022-06-02 23:41:56,632 : INFO : Dictionary lifecycle event {'msg': \"built Dictionary<105671 unique tokens: ['addit', 'anyon', 'bodi', 'bricklin', 'brought']...> from 11314 documents (total 1922370 corpus positions)\", 'datetime': '2022-06-02T23:41:56.608855', 'gensim': '4.2.0', 'python': '3.8.8 (default, Apr 13 2021, 12:59:45) \\n[Clang 10.0.0 ]', 'platform': 'macOS-10.15.7-x86_64-i386-64bit', 'event': 'created'}\n",
      "2022-06-02 23:41:56,812 : INFO : discarding 87282 tokens: [('bricklin', 4), ('edu', 7393), ('host', 4848), ('know', 3533), ('lerxst', 2), ('line', 11282), ('nntp', 4777), ('organ', 10894), ('post', 5860), ('subject', 11314)]...\n",
      "2022-06-02 23:41:56,813 : INFO : keeping 18389 tokens which were in no less than 5 and no more than 3394 (=30.0%) documents\n",
      "2022-06-02 23:41:56,878 : INFO : resulting dictionary: Dictionary<18389 unique tokens: ['addit', 'anyon', 'bodi', 'brought', 'bumper']...>\n"
     ]
    }
   ],
   "source": [
    "from gensim.corpora import Dictionary\n",
    "dictionary = Dictionary(documents=dataset, prune_at=None)\n",
    "dictionary.filter_extremes(no_below=5, no_above=0.3, keep_n=None)  # use Dictionary to remove un-relevant tokens\n",
    "dictionary.compactify()\n",
    "\n",
    "d2b_dataset = [dictionary.doc2bow(doc) for doc in dataset]  # convert list of tokens to bag of word representation"
   ]
  },
  {
   "cell_type": "code",
   "execution_count": null,
   "id": "1b1f708e",
   "metadata": {},
   "outputs": [],
   "source": []
  },
  {
   "cell_type": "code",
   "execution_count": 9,
   "id": "6c4b1dac",
   "metadata": {},
   "outputs": [
    {
     "name": "stderr",
     "output_type": "stream",
     "text": [
      "2022-06-02 23:41:58,411 : INFO : using symmetric alpha at 0.06666666666666667\n",
      "2022-06-02 23:41:58,420 : INFO : using symmetric eta at 0.06666666666666667\n",
      "2022-06-02 23:41:58,426 : INFO : using serial LDA version on this node\n",
      "2022-06-02 23:41:58,526 : INFO : running batch LDA training, 15 topics, 10 passes over the supplied corpus of 11314 documents, updating every 11314 documents, evaluating every ~0 documents, iterating 50x with a convergence threshold of 0.001000\n",
      "2022-06-02 23:41:58,546 : INFO : training LDA model using 4 processes\n",
      "2022-06-02 23:42:07,002 : INFO : PROGRESS: pass 0, dispatched chunk #0 = documents up to #2000/11314, outstanding queue size 1\n",
      "2022-06-02 23:42:07,080 : INFO : PROGRESS: pass 0, dispatched chunk #1 = documents up to #4000/11314, outstanding queue size 2\n",
      "2022-06-02 23:42:07,183 : INFO : PROGRESS: pass 0, dispatched chunk #2 = documents up to #6000/11314, outstanding queue size 3\n",
      "2022-06-02 23:42:07,319 : INFO : PROGRESS: pass 0, dispatched chunk #3 = documents up to #8000/11314, outstanding queue size 4\n",
      "2022-06-02 23:42:07,721 : INFO : PROGRESS: pass 0, dispatched chunk #4 = documents up to #10000/11314, outstanding queue size 5\n",
      "2022-06-02 23:42:07,744 : INFO : PROGRESS: pass 0, dispatched chunk #5 = documents up to #11314/11314, outstanding queue size 6\n",
      "2022-06-02 23:42:32,595 : INFO : topic #13 (0.067): 0.004*\"system\" + 0.004*\"time\" + 0.004*\"right\" + 0.004*\"new\" + 0.003*\"peopl\" + 0.003*\"also\" + 0.003*\"think\" + 0.003*\"question\" + 0.003*\"file\" + 0.003*\"see\"\n",
      "2022-06-02 23:42:32,600 : INFO : topic #7 (0.067): 0.004*\"good\" + 0.004*\"time\" + 0.004*\"system\" + 0.003*\"peopl\" + 0.003*\"think\" + 0.003*\"well\" + 0.003*\"year\" + 0.003*\"right\" + 0.003*\"want\" + 0.003*\"work\"\n",
      "2022-06-02 23:42:32,628 : INFO : topic #5 (0.067): 0.005*\"peopl\" + 0.003*\"new\" + 0.003*\"think\" + 0.003*\"state\" + 0.003*\"god\" + 0.003*\"world\" + 0.003*\"need\" + 0.003*\"say\" + 0.003*\"space\" + 0.003*\"time\"\n",
      "2022-06-02 23:42:32,631 : INFO : topic #6 (0.067): 0.004*\"time\" + 0.004*\"think\" + 0.003*\"say\" + 0.003*\"make\" + 0.003*\"may\" + 0.003*\"mani\" + 0.003*\"peopl\" + 0.003*\"also\" + 0.003*\"god\" + 0.003*\"problem\"\n",
      "2022-06-02 23:42:32,640 : INFO : topic #0 (0.067): 0.005*\"max\" + 0.004*\"think\" + 0.004*\"peopl\" + 0.004*\"year\" + 0.003*\"time\" + 0.003*\"work\" + 0.003*\"system\" + 0.003*\"145\" + 0.003*\"new\" + 0.003*\"a86\"\n",
      "2022-06-02 23:42:32,659 : INFO : topic diff=2.761734, rho=1.000000\n",
      "2022-06-02 23:42:32,662 : INFO : PROGRESS: pass 1, dispatched chunk #0 = documents up to #2000/11314, outstanding queue size 1\n",
      "2022-06-02 23:42:32,858 : INFO : PROGRESS: pass 1, dispatched chunk #1 = documents up to #4000/11314, outstanding queue size 2\n",
      "2022-06-02 23:42:32,861 : INFO : PROGRESS: pass 1, dispatched chunk #2 = documents up to #6000/11314, outstanding queue size 3\n",
      "2022-06-02 23:42:32,869 : INFO : PROGRESS: pass 1, dispatched chunk #3 = documents up to #8000/11314, outstanding queue size 4\n",
      "2022-06-02 23:42:32,872 : INFO : PROGRESS: pass 1, dispatched chunk #4 = documents up to #10000/11314, outstanding queue size 5\n",
      "2022-06-02 23:42:32,873 : INFO : PROGRESS: pass 1, dispatched chunk #5 = documents up to #11314/11314, outstanding queue size 6\n",
      "2022-06-02 23:43:04,772 : INFO : topic #4 (0.067): 0.007*\"key\" + 0.003*\"number\" + 0.003*\"may\" + 0.003*\"make\" + 0.003*\"peopl\" + 0.003*\"also\" + 0.003*\"bit\" + 0.003*\"space\" + 0.003*\"time\" + 0.003*\"need\"\n",
      "2022-06-02 23:43:04,773 : INFO : topic #9 (0.067): 0.006*\"peopl\" + 0.004*\"state\" + 0.003*\"make\" + 0.003*\"think\" + 0.003*\"tri\" + 0.003*\"say\" + 0.003*\"could\" + 0.003*\"scsi\" + 0.003*\"need\" + 0.003*\"card\"\n",
      "2022-06-02 23:43:04,776 : INFO : topic #6 (0.067): 0.004*\"think\" + 0.004*\"time\" + 0.003*\"say\" + 0.003*\"make\" + 0.003*\"god\" + 0.003*\"peopl\" + 0.003*\"mani\" + 0.003*\"may\" + 0.003*\"also\" + 0.003*\"problem\"\n",
      "2022-06-02 23:43:04,781 : INFO : topic #8 (0.067): 0.008*\"window\" + 0.004*\"work\" + 0.003*\"well\" + 0.003*\"peopl\" + 0.003*\"right\" + 0.003*\"say\" + 0.003*\"make\" + 0.003*\"think\" + 0.003*\"new\" + 0.003*\"time\"\n",
      "2022-06-02 23:43:04,783 : INFO : topic #12 (0.067): 0.005*\"time\" + 0.004*\"think\" + 0.004*\"state\" + 0.003*\"system\" + 0.003*\"look\" + 0.003*\"new\" + 0.003*\"file\" + 0.003*\"say\" + 0.002*\"peopl\" + 0.002*\"question\"\n",
      "2022-06-02 23:43:04,785 : INFO : topic diff=0.576296, rho=0.361385\n",
      "2022-06-02 23:43:04,792 : INFO : PROGRESS: pass 2, dispatched chunk #0 = documents up to #2000/11314, outstanding queue size 1\n",
      "2022-06-02 23:43:04,869 : INFO : PROGRESS: pass 2, dispatched chunk #1 = documents up to #4000/11314, outstanding queue size 2\n",
      "2022-06-02 23:43:04,872 : INFO : PROGRESS: pass 2, dispatched chunk #2 = documents up to #6000/11314, outstanding queue size 3\n",
      "2022-06-02 23:43:04,875 : INFO : PROGRESS: pass 2, dispatched chunk #3 = documents up to #8000/11314, outstanding queue size 4\n",
      "2022-06-02 23:43:04,879 : INFO : PROGRESS: pass 2, dispatched chunk #4 = documents up to #10000/11314, outstanding queue size 5\n",
      "2022-06-02 23:43:04,985 : INFO : PROGRESS: pass 2, dispatched chunk #5 = documents up to #11314/11314, outstanding queue size 6\n",
      "2022-06-02 23:43:14,841 : INFO : topic #8 (0.067): 0.010*\"window\" + 0.004*\"work\" + 0.003*\"well\" + 0.003*\"problem\" + 0.003*\"gun\" + 0.003*\"right\" + 0.003*\"peopl\" + 0.003*\"make\" + 0.003*\"distribut\" + 0.003*\"think\"\n",
      "2022-06-02 23:43:14,843 : INFO : topic #4 (0.067): 0.008*\"key\" + 0.004*\"bit\" + 0.004*\"number\" + 0.003*\"may\" + 0.003*\"time\" + 0.003*\"make\" + 0.003*\"also\" + 0.003*\"need\" + 0.003*\"space\" + 0.003*\"say\"\n",
      "2022-06-02 23:43:14,847 : INFO : topic #10 (0.067): 0.028*\"max\" + 0.007*\"file\" + 0.005*\"drive\" + 0.005*\"g9v\" + 0.004*\"program\" + 0.004*\"time\" + 0.003*\"b8f\" + 0.003*\"window\" + 0.003*\"also\" + 0.003*\"comput\"\n",
      "2022-06-02 23:43:14,851 : INFO : topic #6 (0.067): 0.004*\"think\" + 0.004*\"time\" + 0.004*\"make\" + 0.003*\"say\" + 0.003*\"peopl\" + 0.003*\"mani\" + 0.003*\"god\" + 0.003*\"problem\" + 0.003*\"may\" + 0.003*\"also\"\n",
      "2022-06-02 23:43:14,855 : INFO : topic #9 (0.067): 0.005*\"peopl\" + 0.004*\"state\" + 0.004*\"scsi\" + 0.003*\"make\" + 0.003*\"think\" + 0.003*\"card\" + 0.003*\"tri\" + 0.003*\"bit\" + 0.003*\"could\" + 0.003*\"need\"\n",
      "2022-06-02 23:43:14,859 : INFO : topic diff=0.600394, rho=0.339873\n",
      "2022-06-02 23:43:14,871 : INFO : PROGRESS: pass 3, dispatched chunk #0 = documents up to #2000/11314, outstanding queue size 1\n",
      "2022-06-02 23:43:14,966 : INFO : PROGRESS: pass 3, dispatched chunk #1 = documents up to #4000/11314, outstanding queue size 2\n",
      "2022-06-02 23:43:15,101 : INFO : PROGRESS: pass 3, dispatched chunk #2 = documents up to #6000/11314, outstanding queue size 3\n",
      "2022-06-02 23:43:15,104 : INFO : PROGRESS: pass 3, dispatched chunk #3 = documents up to #8000/11314, outstanding queue size 4\n",
      "2022-06-02 23:43:15,110 : INFO : PROGRESS: pass 3, dispatched chunk #4 = documents up to #10000/11314, outstanding queue size 5\n",
      "2022-06-02 23:43:15,112 : INFO : PROGRESS: pass 3, dispatched chunk #5 = documents up to #11314/11314, outstanding queue size 6\n",
      "2022-06-02 23:43:29,096 : INFO : topic #11 (0.067): 0.009*\"god\" + 0.007*\"peopl\" + 0.007*\"say\" + 0.005*\"christian\" + 0.005*\"believ\" + 0.005*\"think\" + 0.004*\"jesu\" + 0.003*\"time\" + 0.003*\"make\" + 0.003*\"thing\"\n",
      "2022-06-02 23:43:29,098 : INFO : topic #14 (0.067): 0.008*\"armenian\" + 0.007*\"peopl\" + 0.005*\"israel\" + 0.004*\"turkish\" + 0.004*\"say\" + 0.003*\"said\" + 0.003*\"time\" + 0.003*\"kill\" + 0.003*\"isra\" + 0.003*\"work\"\n",
      "2022-06-02 23:43:29,103 : INFO : topic #12 (0.067): 0.005*\"time\" + 0.004*\"system\" + 0.003*\"think\" + 0.003*\"state\" + 0.003*\"look\" + 0.003*\"new\" + 0.003*\"file\" + 0.003*\"distribut\" + 0.002*\"window\" + 0.002*\"book\"\n",
      "2022-06-02 23:43:29,105 : INFO : topic #8 (0.067): 0.012*\"window\" + 0.004*\"work\" + 0.004*\"gun\" + 0.003*\"problem\" + 0.003*\"well\" + 0.003*\"distribut\" + 0.003*\"file\" + 0.003*\"right\" + 0.003*\"mous\" + 0.003*\"make\"\n",
      "2022-06-02 23:43:29,108 : INFO : topic #1 (0.067): 0.008*\"game\" + 0.005*\"year\" + 0.005*\"play\" + 0.004*\"run\" + 0.004*\"good\" + 0.004*\"team\" + 0.004*\"win\" + 0.004*\"point\" + 0.003*\"window\" + 0.003*\"say\"\n",
      "2022-06-02 23:43:29,111 : INFO : topic diff=0.603755, rho=0.321795\n",
      "2022-06-02 23:43:29,115 : INFO : PROGRESS: pass 4, dispatched chunk #0 = documents up to #2000/11314, outstanding queue size 1\n",
      "2022-06-02 23:43:29,185 : INFO : PROGRESS: pass 4, dispatched chunk #1 = documents up to #4000/11314, outstanding queue size 2\n",
      "2022-06-02 23:43:29,186 : INFO : PROGRESS: pass 4, dispatched chunk #2 = documents up to #6000/11314, outstanding queue size 3\n"
     ]
    },
    {
     "name": "stderr",
     "output_type": "stream",
     "text": [
      "2022-06-02 23:43:29,297 : INFO : PROGRESS: pass 4, dispatched chunk #3 = documents up to #8000/11314, outstanding queue size 4\n",
      "2022-06-02 23:43:29,300 : INFO : PROGRESS: pass 4, dispatched chunk #4 = documents up to #10000/11314, outstanding queue size 5\n",
      "2022-06-02 23:43:29,304 : INFO : PROGRESS: pass 4, dispatched chunk #5 = documents up to #11314/11314, outstanding queue size 6\n",
      "2022-06-02 23:43:46,433 : INFO : topic #9 (0.067): 0.006*\"scsi\" + 0.005*\"peopl\" + 0.005*\"state\" + 0.004*\"card\" + 0.003*\"bit\" + 0.003*\"make\" + 0.003*\"think\" + 0.003*\"control\" + 0.003*\"drive\" + 0.003*\"could\"\n",
      "2022-06-02 23:43:46,438 : INFO : topic #6 (0.067): 0.005*\"gun\" + 0.004*\"think\" + 0.004*\"time\" + 0.004*\"make\" + 0.003*\"say\" + 0.003*\"peopl\" + 0.003*\"mani\" + 0.003*\"problem\" + 0.003*\"pitt\" + 0.003*\"news\"\n",
      "2022-06-02 23:43:46,447 : INFO : topic #11 (0.067): 0.010*\"god\" + 0.007*\"peopl\" + 0.007*\"say\" + 0.006*\"christian\" + 0.005*\"think\" + 0.005*\"believ\" + 0.004*\"jesu\" + 0.004*\"time\" + 0.004*\"make\" + 0.003*\"thing\"\n",
      "2022-06-02 23:43:46,449 : INFO : topic #10 (0.067): 0.037*\"max\" + 0.009*\"file\" + 0.008*\"drive\" + 0.007*\"g9v\" + 0.005*\"program\" + 0.005*\"disk\" + 0.004*\"entri\" + 0.004*\"b8f\" + 0.004*\"window\" + 0.003*\"help\"\n",
      "2022-06-02 23:43:46,453 : INFO : topic #12 (0.067): 0.005*\"time\" + 0.004*\"system\" + 0.003*\"think\" + 0.003*\"state\" + 0.003*\"look\" + 0.003*\"new\" + 0.003*\"distribut\" + 0.003*\"file\" + 0.003*\"book\" + 0.003*\"repli\"\n",
      "2022-06-02 23:43:46,460 : INFO : topic diff=0.600409, rho=0.306325\n",
      "2022-06-02 23:43:46,465 : INFO : PROGRESS: pass 5, dispatched chunk #0 = documents up to #2000/11314, outstanding queue size 1\n",
      "2022-06-02 23:43:46,585 : INFO : PROGRESS: pass 5, dispatched chunk #1 = documents up to #4000/11314, outstanding queue size 2\n",
      "2022-06-02 23:43:46,809 : INFO : PROGRESS: pass 5, dispatched chunk #2 = documents up to #6000/11314, outstanding queue size 3\n",
      "2022-06-02 23:43:46,813 : INFO : PROGRESS: pass 5, dispatched chunk #3 = documents up to #8000/11314, outstanding queue size 4\n",
      "2022-06-02 23:43:47,075 : INFO : PROGRESS: pass 5, dispatched chunk #4 = documents up to #10000/11314, outstanding queue size 5\n",
      "2022-06-02 23:43:47,078 : INFO : PROGRESS: pass 5, dispatched chunk #5 = documents up to #11314/11314, outstanding queue size 6\n",
      "2022-06-02 23:43:57,408 : INFO : topic #2 (0.067): 0.009*\"key\" + 0.007*\"encrypt\" + 0.005*\"chip\" + 0.005*\"clipper\" + 0.005*\"secur\" + 0.004*\"govern\" + 0.004*\"wire\" + 0.004*\"need\" + 0.004*\"system\" + 0.003*\"new\"\n",
      "2022-06-02 23:43:57,409 : INFO : topic #14 (0.067): 0.009*\"armenian\" + 0.007*\"peopl\" + 0.005*\"israel\" + 0.005*\"turkish\" + 0.004*\"isra\" + 0.004*\"said\" + 0.004*\"say\" + 0.004*\"kill\" + 0.004*\"time\" + 0.003*\"right\"\n",
      "2022-06-02 23:43:57,410 : INFO : topic #8 (0.067): 0.014*\"window\" + 0.004*\"work\" + 0.004*\"problem\" + 0.004*\"gun\" + 0.004*\"file\" + 0.003*\"mous\" + 0.003*\"distribut\" + 0.003*\"driver\" + 0.003*\"applic\" + 0.003*\"run\"\n",
      "2022-06-02 23:43:57,412 : INFO : topic #3 (0.067): 0.004*\"think\" + 0.004*\"peopl\" + 0.004*\"work\" + 0.003*\"make\" + 0.003*\"time\" + 0.003*\"also\" + 0.003*\"system\" + 0.003*\"program\" + 0.003*\"year\" + 0.003*\"access\"\n",
      "2022-06-02 23:43:57,415 : INFO : topic #5 (0.067): 0.010*\"space\" + 0.004*\"nasa\" + 0.004*\"new\" + 0.004*\"year\" + 0.004*\"team\" + 0.003*\"cost\" + 0.003*\"launch\" + 0.003*\"world\" + 0.003*\"orbit\" + 0.003*\"distribut\"\n",
      "2022-06-02 23:43:57,417 : INFO : topic diff=0.589209, rho=0.292891\n",
      "2022-06-02 23:43:57,419 : INFO : PROGRESS: pass 6, dispatched chunk #0 = documents up to #2000/11314, outstanding queue size 1\n",
      "2022-06-02 23:43:57,478 : INFO : PROGRESS: pass 6, dispatched chunk #1 = documents up to #4000/11314, outstanding queue size 2\n",
      "2022-06-02 23:43:57,479 : INFO : PROGRESS: pass 6, dispatched chunk #2 = documents up to #6000/11314, outstanding queue size 3\n",
      "2022-06-02 23:43:57,482 : INFO : PROGRESS: pass 6, dispatched chunk #3 = documents up to #8000/11314, outstanding queue size 4\n",
      "2022-06-02 23:43:57,484 : INFO : PROGRESS: pass 6, dispatched chunk #4 = documents up to #10000/11314, outstanding queue size 5\n",
      "2022-06-02 23:43:57,487 : INFO : PROGRESS: pass 6, dispatched chunk #5 = documents up to #11314/11314, outstanding queue size 6\n",
      "2022-06-02 23:44:04,379 : INFO : topic #3 (0.067): 0.004*\"think\" + 0.004*\"work\" + 0.004*\"peopl\" + 0.003*\"time\" + 0.003*\"make\" + 0.003*\"also\" + 0.003*\"year\" + 0.003*\"program\" + 0.003*\"access\" + 0.003*\"system\"\n",
      "2022-06-02 23:44:04,380 : INFO : topic #9 (0.067): 0.007*\"scsi\" + 0.006*\"state\" + 0.005*\"peopl\" + 0.004*\"card\" + 0.004*\"bit\" + 0.004*\"control\" + 0.003*\"drive\" + 0.003*\"mac\" + 0.003*\"right\" + 0.003*\"gun\"\n",
      "2022-06-02 23:44:04,382 : INFO : topic #10 (0.067): 0.044*\"max\" + 0.011*\"file\" + 0.010*\"drive\" + 0.008*\"g9v\" + 0.006*\"program\" + 0.006*\"disk\" + 0.005*\"entri\" + 0.004*\"b8f\" + 0.004*\"window\" + 0.004*\"set\"\n",
      "2022-06-02 23:44:04,384 : INFO : topic #0 (0.067): 0.013*\"145\" + 0.011*\"a86\" + 0.011*\"b8f\" + 0.008*\"34u\" + 0.008*\"max\" + 0.007*\"g9v\" + 0.007*\"2di\" + 0.007*\"1d9\" + 0.006*\"75u\" + 0.006*\"year\"\n",
      "2022-06-02 23:44:04,386 : INFO : topic #5 (0.067): 0.010*\"space\" + 0.005*\"nasa\" + 0.004*\"new\" + 0.004*\"year\" + 0.004*\"launch\" + 0.004*\"team\" + 0.004*\"cost\" + 0.003*\"world\" + 0.003*\"orbit\" + 0.003*\"gov\"\n",
      "2022-06-02 23:44:04,388 : INFO : topic diff=0.570113, rho=0.281083\n",
      "2022-06-02 23:44:04,390 : INFO : PROGRESS: pass 7, dispatched chunk #0 = documents up to #2000/11314, outstanding queue size 1\n",
      "2022-06-02 23:44:04,453 : INFO : PROGRESS: pass 7, dispatched chunk #1 = documents up to #4000/11314, outstanding queue size 2\n",
      "2022-06-02 23:44:04,454 : INFO : PROGRESS: pass 7, dispatched chunk #2 = documents up to #6000/11314, outstanding queue size 3\n",
      "2022-06-02 23:44:04,456 : INFO : PROGRESS: pass 7, dispatched chunk #3 = documents up to #8000/11314, outstanding queue size 4\n",
      "2022-06-02 23:44:04,468 : INFO : PROGRESS: pass 7, dispatched chunk #4 = documents up to #10000/11314, outstanding queue size 5\n",
      "2022-06-02 23:44:04,588 : INFO : PROGRESS: pass 7, dispatched chunk #5 = documents up to #11314/11314, outstanding queue size 6\n",
      "2022-06-02 23:44:12,829 : INFO : topic #5 (0.067): 0.011*\"space\" + 0.005*\"nasa\" + 0.004*\"new\" + 0.004*\"year\" + 0.004*\"launch\" + 0.004*\"cost\" + 0.004*\"team\" + 0.003*\"world\" + 0.003*\"orbit\" + 0.003*\"gov\"\n",
      "2022-06-02 23:44:12,831 : INFO : topic #6 (0.067): 0.008*\"gun\" + 0.004*\"think\" + 0.004*\"time\" + 0.004*\"make\" + 0.004*\"peopl\" + 0.004*\"pitt\" + 0.003*\"say\" + 0.003*\"problem\" + 0.003*\"mani\" + 0.003*\"good\"\n",
      "2022-06-02 23:44:12,833 : INFO : topic #3 (0.067): 0.004*\"think\" + 0.004*\"work\" + 0.004*\"peopl\" + 0.004*\"time\" + 0.003*\"make\" + 0.003*\"year\" + 0.003*\"also\" + 0.003*\"program\" + 0.003*\"access\" + 0.003*\"system\"\n",
      "2022-06-02 23:44:12,836 : INFO : topic #1 (0.067): 0.011*\"game\" + 0.007*\"team\" + 0.006*\"play\" + 0.006*\"year\" + 0.005*\"win\" + 0.005*\"run\" + 0.004*\"player\" + 0.004*\"good\" + 0.004*\"season\" + 0.004*\"point\"\n",
      "2022-06-02 23:44:12,837 : INFO : topic #4 (0.067): 0.012*\"key\" + 0.006*\"bit\" + 0.004*\"number\" + 0.004*\"time\" + 0.003*\"make\" + 0.003*\"may\" + 0.003*\"also\" + 0.003*\"work\" + 0.003*\"chip\" + 0.003*\"need\"\n",
      "2022-06-02 23:44:12,838 : INFO : topic diff=0.544048, rho=0.270597\n",
      "2022-06-02 23:44:12,840 : INFO : PROGRESS: pass 8, dispatched chunk #0 = documents up to #2000/11314, outstanding queue size 1\n",
      "2022-06-02 23:44:12,910 : INFO : PROGRESS: pass 8, dispatched chunk #1 = documents up to #4000/11314, outstanding queue size 2\n",
      "2022-06-02 23:44:12,912 : INFO : PROGRESS: pass 8, dispatched chunk #2 = documents up to #6000/11314, outstanding queue size 3\n",
      "2022-06-02 23:44:12,916 : INFO : PROGRESS: pass 8, dispatched chunk #3 = documents up to #8000/11314, outstanding queue size 4\n",
      "2022-06-02 23:44:13,236 : INFO : PROGRESS: pass 8, dispatched chunk #4 = documents up to #10000/11314, outstanding queue size 5\n",
      "2022-06-02 23:44:13,238 : INFO : PROGRESS: pass 8, dispatched chunk #5 = documents up to #11314/11314, outstanding queue size 6\n",
      "2022-06-02 23:44:35,576 : INFO : topic #0 (0.067): 0.016*\"145\" + 0.014*\"b8f\" + 0.014*\"a86\" + 0.012*\"max\" + 0.010*\"34u\" + 0.010*\"g9v\" + 0.009*\"1d9\" + 0.008*\"2di\" + 0.007*\"75u\" + 0.005*\"6um\"\n",
      "2022-06-02 23:44:35,586 : INFO : topic #4 (0.067): 0.012*\"key\" + 0.006*\"bit\" + 0.004*\"number\" + 0.004*\"time\" + 0.003*\"make\" + 0.003*\"may\" + 0.003*\"also\" + 0.003*\"car\" + 0.003*\"work\" + 0.003*\"say\"\n",
      "2022-06-02 23:44:35,590 : INFO : topic #11 (0.067): 0.011*\"god\" + 0.008*\"peopl\" + 0.007*\"say\" + 0.007*\"christian\" + 0.006*\"think\" + 0.006*\"believ\" + 0.004*\"jesu\" + 0.004*\"make\" + 0.004*\"thing\" + 0.004*\"time\"\n"
     ]
    },
    {
     "name": "stderr",
     "output_type": "stream",
     "text": [
      "2022-06-02 23:44:35,615 : INFO : topic #1 (0.067): 0.011*\"game\" + 0.007*\"team\" + 0.006*\"play\" + 0.006*\"year\" + 0.005*\"win\" + 0.005*\"player\" + 0.005*\"run\" + 0.004*\"good\" + 0.004*\"season\" + 0.004*\"point\"\n",
      "2022-06-02 23:44:35,621 : INFO : topic #2 (0.067): 0.010*\"key\" + 0.008*\"encrypt\" + 0.007*\"chip\" + 0.006*\"clipper\" + 0.005*\"secur\" + 0.005*\"govern\" + 0.004*\"wire\" + 0.004*\"system\" + 0.004*\"need\" + 0.004*\"law\"\n",
      "2022-06-02 23:44:35,628 : INFO : topic diff=0.512797, rho=0.261203\n",
      "2022-06-02 23:44:35,636 : INFO : PROGRESS: pass 9, dispatched chunk #0 = documents up to #2000/11314, outstanding queue size 1\n",
      "2022-06-02 23:44:35,785 : INFO : PROGRESS: pass 9, dispatched chunk #1 = documents up to #4000/11314, outstanding queue size 2\n",
      "2022-06-02 23:44:35,789 : INFO : PROGRESS: pass 9, dispatched chunk #2 = documents up to #6000/11314, outstanding queue size 3\n",
      "2022-06-02 23:44:35,791 : INFO : PROGRESS: pass 9, dispatched chunk #3 = documents up to #8000/11314, outstanding queue size 4\n",
      "2022-06-02 23:44:35,799 : INFO : PROGRESS: pass 9, dispatched chunk #4 = documents up to #10000/11314, outstanding queue size 5\n",
      "2022-06-02 23:44:35,804 : INFO : PROGRESS: pass 9, dispatched chunk #5 = documents up to #11314/11314, outstanding queue size 6\n",
      "2022-06-02 23:44:51,585 : INFO : topic #0 (0.067): 0.017*\"145\" + 0.016*\"b8f\" + 0.016*\"a86\" + 0.015*\"max\" + 0.012*\"g9v\" + 0.010*\"34u\" + 0.010*\"1d9\" + 0.009*\"2di\" + 0.008*\"75u\" + 0.006*\"6um\"\n",
      "2022-06-02 23:44:51,586 : INFO : topic #14 (0.067): 0.009*\"armenian\" + 0.008*\"peopl\" + 0.006*\"israel\" + 0.005*\"isra\" + 0.005*\"turkish\" + 0.004*\"said\" + 0.004*\"kill\" + 0.004*\"say\" + 0.004*\"time\" + 0.004*\"jew\"\n",
      "2022-06-02 23:44:51,588 : INFO : topic #7 (0.067): 0.007*\"car\" + 0.006*\"card\" + 0.005*\"good\" + 0.004*\"monitor\" + 0.004*\"mail\" + 0.004*\"ibm\" + 0.004*\"bike\" + 0.004*\"work\" + 0.004*\"system\" + 0.004*\"look\"\n",
      "2022-06-02 23:44:51,589 : INFO : topic #6 (0.067): 0.009*\"gun\" + 0.004*\"think\" + 0.004*\"peopl\" + 0.004*\"make\" + 0.004*\"time\" + 0.004*\"pitt\" + 0.003*\"say\" + 0.003*\"problem\" + 0.003*\"mani\" + 0.003*\"good\"\n",
      "2022-06-02 23:44:51,591 : INFO : topic #5 (0.067): 0.012*\"space\" + 0.006*\"nasa\" + 0.004*\"launch\" + 0.004*\"year\" + 0.004*\"new\" + 0.004*\"cost\" + 0.003*\"team\" + 0.003*\"gov\" + 0.003*\"world\" + 0.003*\"cmu\"\n",
      "2022-06-02 23:44:51,592 : INFO : topic diff=0.478449, rho=0.252724\n",
      "2022-06-02 23:44:51,629 : INFO : LdaMulticore lifecycle event {'msg': 'trained LdaMulticore<num_terms=18389, num_topics=15, decay=0.5, chunksize=2000> in 173.10s', 'datetime': '2022-06-02T23:44:51.628954', 'gensim': '4.2.0', 'python': '3.8.8 (default, Apr 13 2021, 12:59:45) \\n[Clang 10.0.0 ]', 'platform': 'macOS-10.15.7-x86_64-i386-64bit', 'event': 'created'}\n",
      "2022-06-02 23:44:51,632 : INFO : using symmetric alpha at 0.06666666666666667\n",
      "2022-06-02 23:44:51,633 : INFO : using symmetric eta at 0.06666666666666667\n",
      "2022-06-02 23:44:51,638 : INFO : using serial LDA version on this node\n",
      "2022-06-02 23:44:51,678 : INFO : running batch LDA training, 15 topics, 20 passes over the supplied corpus of 11314 documents, updating every 11314 documents, evaluating every ~0 documents, iterating 50x with a convergence threshold of 0.001000\n",
      "2022-06-02 23:44:51,681 : INFO : training LDA model using 4 processes\n",
      "2022-06-02 23:45:01,494 : INFO : PROGRESS: pass 0, dispatched chunk #0 = documents up to #2000/11314, outstanding queue size 1\n",
      "2022-06-02 23:45:01,566 : INFO : PROGRESS: pass 0, dispatched chunk #1 = documents up to #4000/11314, outstanding queue size 2\n",
      "2022-06-02 23:45:01,575 : INFO : PROGRESS: pass 0, dispatched chunk #2 = documents up to #6000/11314, outstanding queue size 3\n",
      "2022-06-02 23:45:01,579 : INFO : PROGRESS: pass 0, dispatched chunk #3 = documents up to #8000/11314, outstanding queue size 4\n",
      "2022-06-02 23:45:01,689 : INFO : PROGRESS: pass 0, dispatched chunk #4 = documents up to #10000/11314, outstanding queue size 5\n",
      "2022-06-02 23:45:01,711 : INFO : PROGRESS: pass 0, dispatched chunk #5 = documents up to #11314/11314, outstanding queue size 6\n",
      "2022-06-02 23:45:15,064 : INFO : topic #5 (0.067): 0.006*\"peopl\" + 0.004*\"say\" + 0.004*\"god\" + 0.003*\"work\" + 0.003*\"system\" + 0.003*\"think\" + 0.003*\"want\" + 0.003*\"even\" + 0.003*\"could\" + 0.003*\"right\"\n",
      "2022-06-02 23:45:15,066 : INFO : topic #6 (0.067): 0.010*\"max\" + 0.006*\"145\" + 0.005*\"b8f\" + 0.004*\"a86\" + 0.004*\"peopl\" + 0.003*\"g9v\" + 0.003*\"new\" + 0.003*\"time\" + 0.003*\"2di\" + 0.003*\"look\"\n",
      "2022-06-02 23:45:15,073 : INFO : topic #9 (0.067): 0.006*\"max\" + 0.004*\"say\" + 0.004*\"think\" + 0.003*\"also\" + 0.003*\"time\" + 0.003*\"make\" + 0.003*\"new\" + 0.003*\"peopl\" + 0.003*\"well\" + 0.003*\"good\"\n",
      "2022-06-02 23:45:15,077 : INFO : topic #13 (0.067): 0.004*\"make\" + 0.004*\"window\" + 0.004*\"think\" + 0.004*\"peopl\" + 0.003*\"work\" + 0.003*\"time\" + 0.003*\"say\" + 0.003*\"good\" + 0.003*\"also\" + 0.003*\"even\"\n",
      "2022-06-02 23:45:15,081 : INFO : topic #11 (0.067): 0.004*\"time\" + 0.004*\"system\" + 0.004*\"also\" + 0.004*\"peopl\" + 0.003*\"problem\" + 0.003*\"work\" + 0.003*\"think\" + 0.003*\"key\" + 0.003*\"year\" + 0.003*\"new\"\n",
      "2022-06-02 23:45:15,084 : INFO : topic diff=2.803858, rho=1.000000\n",
      "2022-06-02 23:45:15,089 : INFO : PROGRESS: pass 1, dispatched chunk #0 = documents up to #2000/11314, outstanding queue size 1\n",
      "2022-06-02 23:45:15,171 : INFO : PROGRESS: pass 1, dispatched chunk #1 = documents up to #4000/11314, outstanding queue size 2\n",
      "2022-06-02 23:45:15,177 : INFO : PROGRESS: pass 1, dispatched chunk #2 = documents up to #6000/11314, outstanding queue size 3\n",
      "2022-06-02 23:45:15,259 : INFO : PROGRESS: pass 1, dispatched chunk #3 = documents up to #8000/11314, outstanding queue size 4\n",
      "2022-06-02 23:45:15,260 : INFO : PROGRESS: pass 1, dispatched chunk #4 = documents up to #10000/11314, outstanding queue size 5\n",
      "2022-06-02 23:45:15,268 : INFO : PROGRESS: pass 1, dispatched chunk #5 = documents up to #11314/11314, outstanding queue size 6\n",
      "2022-06-02 23:45:32,224 : INFO : topic #0 (0.067): 0.004*\"time\" + 0.004*\"file\" + 0.004*\"program\" + 0.003*\"peopl\" + 0.003*\"space\" + 0.003*\"also\" + 0.003*\"year\" + 0.003*\"system\" + 0.003*\"game\" + 0.003*\"think\"\n",
      "2022-06-02 23:45:32,228 : INFO : topic #6 (0.067): 0.020*\"max\" + 0.008*\"b8f\" + 0.008*\"145\" + 0.007*\"g9v\" + 0.007*\"a86\" + 0.005*\"1d9\" + 0.004*\"2di\" + 0.004*\"34u\" + 0.003*\"75u\" + 0.003*\"peopl\"\n",
      "2022-06-02 23:45:32,232 : INFO : topic #10 (0.067): 0.004*\"peopl\" + 0.003*\"think\" + 0.003*\"also\" + 0.003*\"car\" + 0.003*\"time\" + 0.003*\"say\" + 0.003*\"well\" + 0.003*\"new\" + 0.003*\"year\" + 0.003*\"make\"\n",
      "2022-06-02 23:45:32,238 : INFO : topic #5 (0.067): 0.007*\"peopl\" + 0.006*\"god\" + 0.005*\"say\" + 0.003*\"think\" + 0.003*\"work\" + 0.003*\"right\" + 0.003*\"want\" + 0.003*\"even\" + 0.003*\"thing\" + 0.003*\"could\"\n",
      "2022-06-02 23:45:32,241 : INFO : topic #14 (0.067): 0.004*\"peopl\" + 0.004*\"year\" + 0.003*\"new\" + 0.003*\"say\" + 0.003*\"make\" + 0.003*\"time\" + 0.003*\"think\" + 0.003*\"also\" + 0.003*\"well\" + 0.002*\"realli\"\n",
      "2022-06-02 23:45:32,248 : INFO : topic diff=0.572414, rho=0.361385\n",
      "2022-06-02 23:45:32,252 : INFO : PROGRESS: pass 2, dispatched chunk #0 = documents up to #2000/11314, outstanding queue size 1\n",
      "2022-06-02 23:45:32,343 : INFO : PROGRESS: pass 2, dispatched chunk #1 = documents up to #4000/11314, outstanding queue size 2\n",
      "2022-06-02 23:45:32,351 : INFO : PROGRESS: pass 2, dispatched chunk #2 = documents up to #6000/11314, outstanding queue size 3\n",
      "2022-06-02 23:45:32,450 : INFO : PROGRESS: pass 2, dispatched chunk #3 = documents up to #8000/11314, outstanding queue size 4\n",
      "2022-06-02 23:45:32,461 : INFO : PROGRESS: pass 2, dispatched chunk #4 = documents up to #10000/11314, outstanding queue size 5\n",
      "2022-06-02 23:45:32,589 : INFO : PROGRESS: pass 2, dispatched chunk #5 = documents up to #11314/11314, outstanding queue size 6\n",
      "2022-06-02 23:45:48,564 : INFO : topic #9 (0.067): 0.004*\"say\" + 0.003*\"think\" + 0.003*\"time\" + 0.003*\"max\" + 0.003*\"new\" + 0.003*\"key\" + 0.003*\"make\" + 0.003*\"play\" + 0.003*\"also\" + 0.003*\"good\"\n",
      "2022-06-02 23:45:48,567 : INFO : topic #2 (0.067): 0.005*\"year\" + 0.004*\"peopl\" + 0.004*\"good\" + 0.004*\"think\" + 0.003*\"team\" + 0.003*\"time\" + 0.003*\"well\" + 0.003*\"player\" + 0.003*\"game\" + 0.003*\"window\"\n",
      "2022-06-02 23:45:48,570 : INFO : topic #11 (0.067): 0.005*\"key\" + 0.004*\"space\" + 0.004*\"system\" + 0.004*\"time\" + 0.003*\"gun\" + 0.003*\"also\" + 0.003*\"year\" + 0.003*\"new\" + 0.003*\"problem\" + 0.003*\"peopl\"\n"
     ]
    },
    {
     "name": "stderr",
     "output_type": "stream",
     "text": [
      "2022-06-02 23:45:48,575 : INFO : topic #3 (0.067): 0.005*\"think\" + 0.003*\"make\" + 0.003*\"game\" + 0.003*\"peopl\" + 0.003*\"way\" + 0.003*\"well\" + 0.003*\"thing\" + 0.003*\"good\" + 0.002*\"may\" + 0.002*\"right\"\n",
      "2022-06-02 23:45:48,578 : INFO : topic #12 (0.067): 0.005*\"time\" + 0.004*\"file\" + 0.004*\"think\" + 0.003*\"program\" + 0.003*\"peopl\" + 0.003*\"entri\" + 0.003*\"problem\" + 0.003*\"right\" + 0.003*\"could\" + 0.003*\"output\"\n",
      "2022-06-02 23:45:48,581 : INFO : topic diff=0.598735, rho=0.339873\n",
      "2022-06-02 23:45:48,584 : INFO : PROGRESS: pass 3, dispatched chunk #0 = documents up to #2000/11314, outstanding queue size 1\n",
      "2022-06-02 23:45:48,695 : INFO : PROGRESS: pass 3, dispatched chunk #1 = documents up to #4000/11314, outstanding queue size 2\n",
      "2022-06-02 23:45:48,698 : INFO : PROGRESS: pass 3, dispatched chunk #2 = documents up to #6000/11314, outstanding queue size 3\n",
      "2022-06-02 23:45:48,700 : INFO : PROGRESS: pass 3, dispatched chunk #3 = documents up to #8000/11314, outstanding queue size 4\n",
      "2022-06-02 23:45:48,703 : INFO : PROGRESS: pass 3, dispatched chunk #4 = documents up to #10000/11314, outstanding queue size 5\n",
      "2022-06-02 23:45:48,834 : INFO : PROGRESS: pass 3, dispatched chunk #5 = documents up to #11314/11314, outstanding queue size 6\n",
      "2022-06-02 23:46:19,068 : INFO : topic #1 (0.067): 0.005*\"window\" + 0.005*\"system\" + 0.005*\"chip\" + 0.005*\"scsi\" + 0.005*\"drive\" + 0.004*\"key\" + 0.004*\"need\" + 0.004*\"encrypt\" + 0.003*\"peopl\" + 0.003*\"clipper\"\n",
      "2022-06-02 23:46:19,072 : INFO : topic #14 (0.067): 0.004*\"year\" + 0.004*\"peopl\" + 0.003*\"new\" + 0.003*\"say\" + 0.003*\"time\" + 0.003*\"make\" + 0.003*\"said\" + 0.002*\"well\" + 0.002*\"right\" + 0.002*\"think\"\n",
      "2022-06-02 23:46:19,075 : INFO : topic #0 (0.067): 0.004*\"time\" + 0.004*\"game\" + 0.003*\"program\" + 0.003*\"file\" + 0.003*\"space\" + 0.003*\"also\" + 0.003*\"peopl\" + 0.003*\"year\" + 0.003*\"new\" + 0.003*\"state\"\n",
      "2022-06-02 23:46:19,078 : INFO : topic #4 (0.067): 0.010*\"max\" + 0.005*\"armenian\" + 0.004*\"turkish\" + 0.004*\"file\" + 0.003*\"peopl\" + 0.003*\"state\" + 0.003*\"drive\" + 0.003*\"system\" + 0.003*\"right\" + 0.003*\"govern\"\n",
      "2022-06-02 23:46:19,084 : INFO : topic #3 (0.067): 0.005*\"think\" + 0.003*\"make\" + 0.003*\"wire\" + 0.003*\"game\" + 0.003*\"way\" + 0.003*\"thing\" + 0.003*\"well\" + 0.003*\"ground\" + 0.003*\"peopl\" + 0.003*\"good\"\n",
      "2022-06-02 23:46:19,092 : INFO : topic diff=0.601847, rho=0.321795\n",
      "2022-06-02 23:46:19,096 : INFO : PROGRESS: pass 4, dispatched chunk #0 = documents up to #2000/11314, outstanding queue size 1\n",
      "2022-06-02 23:46:19,211 : INFO : PROGRESS: pass 4, dispatched chunk #1 = documents up to #4000/11314, outstanding queue size 2\n",
      "2022-06-02 23:46:19,214 : INFO : PROGRESS: pass 4, dispatched chunk #2 = documents up to #6000/11314, outstanding queue size 3\n",
      "2022-06-02 23:46:19,216 : INFO : PROGRESS: pass 4, dispatched chunk #3 = documents up to #8000/11314, outstanding queue size 4\n",
      "2022-06-02 23:46:19,219 : INFO : PROGRESS: pass 4, dispatched chunk #4 = documents up to #10000/11314, outstanding queue size 5\n",
      "2022-06-02 23:46:19,354 : INFO : PROGRESS: pass 4, dispatched chunk #5 = documents up to #11314/11314, outstanding queue size 6\n",
      "2022-06-02 23:46:46,617 : INFO : topic #10 (0.067): 0.006*\"car\" + 0.004*\"peopl\" + 0.004*\"think\" + 0.003*\"new\" + 0.003*\"time\" + 0.003*\"year\" + 0.003*\"also\" + 0.003*\"say\" + 0.003*\"well\" + 0.003*\"access\"\n",
      "2022-06-02 23:46:46,619 : INFO : topic #13 (0.067): 0.005*\"window\" + 0.004*\"think\" + 0.004*\"scienc\" + 0.004*\"msg\" + 0.004*\"utexa\" + 0.004*\"make\" + 0.003*\"food\" + 0.003*\"peopl\" + 0.003*\"time\" + 0.003*\"work\"\n",
      "2022-06-02 23:46:46,628 : INFO : topic #8 (0.067): 0.006*\"god\" + 0.005*\"peopl\" + 0.004*\"think\" + 0.004*\"christian\" + 0.004*\"islam\" + 0.004*\"religion\" + 0.004*\"believ\" + 0.004*\"law\" + 0.004*\"say\" + 0.004*\"mani\"\n",
      "2022-06-02 23:46:46,639 : INFO : topic #7 (0.067): 0.006*\"file\" + 0.005*\"window\" + 0.005*\"imag\" + 0.005*\"system\" + 0.005*\"program\" + 0.004*\"work\" + 0.004*\"comput\" + 0.004*\"also\" + 0.004*\"time\" + 0.004*\"avail\"\n",
      "2022-06-02 23:46:46,646 : INFO : topic #2 (0.067): 0.006*\"year\" + 0.006*\"team\" + 0.005*\"game\" + 0.004*\"player\" + 0.004*\"good\" + 0.004*\"think\" + 0.004*\"win\" + 0.003*\"time\" + 0.003*\"well\" + 0.003*\"play\"\n",
      "2022-06-02 23:46:46,663 : INFO : topic diff=0.596913, rho=0.306325\n",
      "2022-06-02 23:46:46,681 : INFO : PROGRESS: pass 5, dispatched chunk #0 = documents up to #2000/11314, outstanding queue size 1\n",
      "2022-06-02 23:46:46,847 : INFO : PROGRESS: pass 5, dispatched chunk #1 = documents up to #4000/11314, outstanding queue size 2\n",
      "2022-06-02 23:46:46,850 : INFO : PROGRESS: pass 5, dispatched chunk #2 = documents up to #6000/11314, outstanding queue size 3\n",
      "2022-06-02 23:46:46,855 : INFO : PROGRESS: pass 5, dispatched chunk #3 = documents up to #8000/11314, outstanding queue size 4\n",
      "2022-06-02 23:46:46,865 : INFO : PROGRESS: pass 5, dispatched chunk #4 = documents up to #10000/11314, outstanding queue size 5\n",
      "2022-06-02 23:46:46,872 : INFO : PROGRESS: pass 5, dispatched chunk #5 = documents up to #11314/11314, outstanding queue size 6\n",
      "2022-06-02 23:47:03,148 : INFO : topic #8 (0.067): 0.006*\"god\" + 0.005*\"christian\" + 0.005*\"peopl\" + 0.004*\"think\" + 0.004*\"islam\" + 0.004*\"religion\" + 0.004*\"law\" + 0.004*\"believ\" + 0.004*\"say\" + 0.004*\"church\"\n",
      "2022-06-02 23:47:03,150 : INFO : topic #1 (0.067): 0.007*\"key\" + 0.007*\"chip\" + 0.006*\"system\" + 0.006*\"drive\" + 0.006*\"encrypt\" + 0.005*\"scsi\" + 0.005*\"window\" + 0.004*\"need\" + 0.004*\"clipper\" + 0.004*\"disk\"\n",
      "2022-06-02 23:47:03,151 : INFO : topic #6 (0.067): 0.074*\"max\" + 0.020*\"g9v\" + 0.020*\"b8f\" + 0.018*\"a86\" + 0.017*\"145\" + 0.012*\"1d9\" + 0.011*\"34u\" + 0.009*\"75u\" + 0.009*\"2di\" + 0.008*\"bhj\"\n",
      "2022-06-02 23:47:03,154 : INFO : topic #4 (0.067): 0.009*\"armenian\" + 0.006*\"turkish\" + 0.005*\"max\" + 0.004*\"file\" + 0.004*\"peopl\" + 0.004*\"state\" + 0.003*\"govern\" + 0.003*\"turk\" + 0.003*\"armenia\" + 0.003*\"turkey\"\n",
      "2022-06-02 23:47:03,155 : INFO : topic #7 (0.067): 0.007*\"file\" + 0.006*\"window\" + 0.005*\"imag\" + 0.005*\"program\" + 0.005*\"system\" + 0.004*\"work\" + 0.004*\"comput\" + 0.004*\"also\" + 0.004*\"avail\" + 0.004*\"graphic\"\n",
      "2022-06-02 23:47:03,156 : INFO : topic diff=0.585056, rho=0.292891\n",
      "2022-06-02 23:47:03,158 : INFO : PROGRESS: pass 6, dispatched chunk #0 = documents up to #2000/11314, outstanding queue size 1\n",
      "2022-06-02 23:47:03,219 : INFO : PROGRESS: pass 6, dispatched chunk #1 = documents up to #4000/11314, outstanding queue size 2\n",
      "2022-06-02 23:47:03,221 : INFO : PROGRESS: pass 6, dispatched chunk #2 = documents up to #6000/11314, outstanding queue size 3\n",
      "2022-06-02 23:47:03,223 : INFO : PROGRESS: pass 6, dispatched chunk #3 = documents up to #8000/11314, outstanding queue size 4\n",
      "2022-06-02 23:47:03,224 : INFO : PROGRESS: pass 6, dispatched chunk #4 = documents up to #10000/11314, outstanding queue size 5\n",
      "2022-06-02 23:47:03,226 : INFO : PROGRESS: pass 6, dispatched chunk #5 = documents up to #11314/11314, outstanding queue size 6\n",
      "2022-06-02 23:47:14,782 : INFO : topic #3 (0.067): 0.005*\"wire\" + 0.004*\"think\" + 0.004*\"ground\" + 0.004*\"make\" + 0.003*\"thing\" + 0.003*\"gun\" + 0.003*\"well\" + 0.003*\"way\" + 0.003*\"work\" + 0.003*\"need\"\n",
      "2022-06-02 23:47:14,784 : INFO : topic #4 (0.067): 0.010*\"armenian\" + 0.007*\"turkish\" + 0.004*\"file\" + 0.004*\"peopl\" + 0.004*\"max\" + 0.004*\"state\" + 0.004*\"govern\" + 0.004*\"turk\" + 0.003*\"armenia\" + 0.003*\"turkey\"\n",
      "2022-06-02 23:47:14,787 : INFO : topic #9 (0.067): 0.004*\"play\" + 0.004*\"key\" + 0.003*\"say\" + 0.003*\"new\" + 0.003*\"time\" + 0.003*\"think\" + 0.003*\"comput\" + 0.003*\"jew\" + 0.003*\"period\" + 0.003*\"isra\"\n",
      "2022-06-02 23:47:14,791 : INFO : topic #11 (0.067): 0.008*\"space\" + 0.005*\"nasa\" + 0.005*\"gun\" + 0.004*\"year\" + 0.003*\"system\" + 0.003*\"new\" + 0.003*\"time\" + 0.003*\"key\" + 0.003*\"orbit\" + 0.003*\"also\"\n",
      "2022-06-02 23:47:14,794 : INFO : topic #0 (0.067): 0.004*\"state\" + 0.004*\"time\" + 0.003*\"new\" + 0.003*\"also\" + 0.003*\"ohio\" + 0.003*\"year\" + 0.003*\"peopl\" + 0.003*\"program\" + 0.003*\"game\" + 0.003*\"system\"\n",
      "2022-06-02 23:47:14,795 : INFO : topic diff=0.565898, rho=0.281083\n",
      "2022-06-02 23:47:14,797 : INFO : PROGRESS: pass 7, dispatched chunk #0 = documents up to #2000/11314, outstanding queue size 1\n",
      "2022-06-02 23:47:14,877 : INFO : PROGRESS: pass 7, dispatched chunk #1 = documents up to #4000/11314, outstanding queue size 2\n",
      "2022-06-02 23:47:14,878 : INFO : PROGRESS: pass 7, dispatched chunk #2 = documents up to #6000/11314, outstanding queue size 3\n"
     ]
    },
    {
     "name": "stderr",
     "output_type": "stream",
     "text": [
      "2022-06-02 23:47:14,881 : INFO : PROGRESS: pass 7, dispatched chunk #3 = documents up to #8000/11314, outstanding queue size 4\n",
      "2022-06-02 23:47:14,887 : INFO : PROGRESS: pass 7, dispatched chunk #4 = documents up to #10000/11314, outstanding queue size 5\n",
      "2022-06-02 23:47:14,891 : INFO : PROGRESS: pass 7, dispatched chunk #5 = documents up to #11314/11314, outstanding queue size 6\n",
      "2022-06-02 23:47:39,076 : INFO : topic #14 (0.067): 0.004*\"year\" + 0.003*\"new\" + 0.003*\"peopl\" + 0.003*\"stratu\" + 0.003*\"gun\" + 0.003*\"000\" + 0.003*\"time\" + 0.003*\"said\" + 0.002*\"day\" + 0.002*\"right\"\n",
      "2022-06-02 23:47:39,079 : INFO : topic #6 (0.067): 0.094*\"max\" + 0.025*\"g9v\" + 0.024*\"b8f\" + 0.022*\"a86\" + 0.021*\"145\" + 0.015*\"1d9\" + 0.013*\"34u\" + 0.011*\"75u\" + 0.011*\"2di\" + 0.010*\"bhj\"\n",
      "2022-06-02 23:47:39,084 : INFO : topic #5 (0.067): 0.011*\"peopl\" + 0.009*\"god\" + 0.008*\"say\" + 0.006*\"think\" + 0.005*\"christian\" + 0.005*\"right\" + 0.004*\"believ\" + 0.004*\"said\" + 0.004*\"thing\" + 0.004*\"time\"\n",
      "2022-06-02 23:47:39,090 : INFO : topic #9 (0.067): 0.004*\"play\" + 0.004*\"key\" + 0.003*\"say\" + 0.003*\"new\" + 0.003*\"jew\" + 0.003*\"period\" + 0.003*\"time\" + 0.003*\"indiana\" + 0.003*\"isra\" + 0.003*\"comput\"\n",
      "2022-06-02 23:47:39,091 : INFO : topic #10 (0.067): 0.008*\"car\" + 0.005*\"think\" + 0.004*\"peopl\" + 0.004*\"time\" + 0.004*\"year\" + 0.004*\"new\" + 0.003*\"work\" + 0.003*\"also\" + 0.003*\"access\" + 0.003*\"israel\"\n",
      "2022-06-02 23:47:39,094 : INFO : topic diff=0.540323, rho=0.270597\n",
      "2022-06-02 23:47:39,096 : INFO : PROGRESS: pass 8, dispatched chunk #0 = documents up to #2000/11314, outstanding queue size 1\n",
      "2022-06-02 23:47:39,276 : INFO : PROGRESS: pass 8, dispatched chunk #1 = documents up to #4000/11314, outstanding queue size 2\n",
      "2022-06-02 23:47:39,281 : INFO : PROGRESS: pass 8, dispatched chunk #2 = documents up to #6000/11314, outstanding queue size 3\n",
      "2022-06-02 23:47:39,290 : INFO : PROGRESS: pass 8, dispatched chunk #3 = documents up to #8000/11314, outstanding queue size 4\n",
      "2022-06-02 23:47:39,295 : INFO : PROGRESS: pass 8, dispatched chunk #4 = documents up to #10000/11314, outstanding queue size 5\n",
      "2022-06-02 23:47:39,298 : INFO : PROGRESS: pass 8, dispatched chunk #5 = documents up to #11314/11314, outstanding queue size 6\n",
      "2022-06-02 23:48:05,002 : INFO : topic #4 (0.067): 0.012*\"armenian\" + 0.008*\"turkish\" + 0.005*\"peopl\" + 0.004*\"file\" + 0.004*\"state\" + 0.004*\"govern\" + 0.004*\"turk\" + 0.004*\"armenia\" + 0.004*\"turkey\" + 0.003*\"greek\"\n",
      "2022-06-02 23:48:05,005 : INFO : topic #2 (0.067): 0.009*\"game\" + 0.008*\"team\" + 0.007*\"year\" + 0.006*\"player\" + 0.005*\"play\" + 0.005*\"win\" + 0.005*\"think\" + 0.004*\"good\" + 0.004*\"time\" + 0.004*\"hockey\"\n",
      "2022-06-02 23:48:05,008 : INFO : topic #11 (0.067): 0.009*\"space\" + 0.006*\"nasa\" + 0.006*\"gun\" + 0.004*\"year\" + 0.004*\"orbit\" + 0.004*\"gov\" + 0.003*\"system\" + 0.003*\"launch\" + 0.003*\"new\" + 0.003*\"center\"\n",
      "2022-06-02 23:48:05,016 : INFO : topic #0 (0.067): 0.004*\"state\" + 0.004*\"ohio\" + 0.003*\"diseas\" + 0.003*\"time\" + 0.003*\"new\" + 0.003*\"patient\" + 0.003*\"also\" + 0.003*\"peopl\" + 0.003*\"year\" + 0.003*\"day\"\n",
      "2022-06-02 23:48:05,020 : INFO : topic #12 (0.067): 0.006*\"entri\" + 0.006*\"file\" + 0.006*\"output\" + 0.006*\"program\" + 0.005*\"appl\" + 0.005*\"problem\" + 0.005*\"time\" + 0.003*\"need\" + 0.003*\"mous\" + 0.003*\"read\"\n",
      "2022-06-02 23:48:05,024 : INFO : topic diff=0.509876, rho=0.261203\n",
      "2022-06-02 23:48:05,027 : INFO : PROGRESS: pass 9, dispatched chunk #0 = documents up to #2000/11314, outstanding queue size 1\n",
      "2022-06-02 23:48:05,096 : INFO : PROGRESS: pass 9, dispatched chunk #1 = documents up to #4000/11314, outstanding queue size 2\n",
      "2022-06-02 23:48:05,100 : INFO : PROGRESS: pass 9, dispatched chunk #2 = documents up to #6000/11314, outstanding queue size 3\n",
      "2022-06-02 23:48:05,181 : INFO : PROGRESS: pass 9, dispatched chunk #3 = documents up to #8000/11314, outstanding queue size 4\n",
      "2022-06-02 23:48:05,183 : INFO : PROGRESS: pass 9, dispatched chunk #4 = documents up to #10000/11314, outstanding queue size 5\n",
      "2022-06-02 23:48:05,188 : INFO : PROGRESS: pass 9, dispatched chunk #5 = documents up to #11314/11314, outstanding queue size 6\n",
      "2022-06-02 23:48:19,521 : INFO : topic #11 (0.067): 0.010*\"space\" + 0.007*\"nasa\" + 0.006*\"gun\" + 0.004*\"year\" + 0.004*\"orbit\" + 0.004*\"gov\" + 0.003*\"launch\" + 0.003*\"system\" + 0.003*\"new\" + 0.003*\"center\"\n",
      "2022-06-02 23:48:19,523 : INFO : topic #12 (0.067): 0.007*\"entri\" + 0.006*\"file\" + 0.006*\"output\" + 0.006*\"program\" + 0.005*\"appl\" + 0.005*\"problem\" + 0.005*\"time\" + 0.004*\"mous\" + 0.004*\"need\" + 0.003*\"read\"\n",
      "2022-06-02 23:48:19,525 : INFO : topic #8 (0.067): 0.007*\"god\" + 0.006*\"christian\" + 0.005*\"religion\" + 0.005*\"islam\" + 0.005*\"peopl\" + 0.005*\"church\" + 0.005*\"law\" + 0.004*\"think\" + 0.004*\"believ\" + 0.004*\"say\"\n",
      "2022-06-02 23:48:19,528 : INFO : topic #6 (0.067): 0.110*\"max\" + 0.029*\"g9v\" + 0.028*\"b8f\" + 0.025*\"a86\" + 0.023*\"145\" + 0.017*\"1d9\" + 0.015*\"34u\" + 0.013*\"75u\" + 0.012*\"2di\" + 0.011*\"bhj\"\n",
      "2022-06-02 23:48:19,531 : INFO : topic #7 (0.067): 0.009*\"window\" + 0.008*\"file\" + 0.005*\"program\" + 0.005*\"imag\" + 0.005*\"system\" + 0.004*\"graphic\" + 0.004*\"work\" + 0.004*\"comput\" + 0.004*\"version\" + 0.004*\"also\"\n",
      "2022-06-02 23:48:19,533 : INFO : topic diff=0.476434, rho=0.252724\n",
      "2022-06-02 23:48:19,535 : INFO : PROGRESS: pass 10, dispatched chunk #0 = documents up to #2000/11314, outstanding queue size 1\n",
      "2022-06-02 23:48:19,642 : INFO : PROGRESS: pass 10, dispatched chunk #1 = documents up to #4000/11314, outstanding queue size 2\n",
      "2022-06-02 23:48:19,647 : INFO : PROGRESS: pass 10, dispatched chunk #2 = documents up to #6000/11314, outstanding queue size 3\n",
      "2022-06-02 23:48:19,759 : INFO : PROGRESS: pass 10, dispatched chunk #3 = documents up to #8000/11314, outstanding queue size 4\n",
      "2022-06-02 23:48:19,766 : INFO : PROGRESS: pass 10, dispatched chunk #4 = documents up to #10000/11314, outstanding queue size 5\n",
      "2022-06-02 23:48:19,770 : INFO : PROGRESS: pass 10, dispatched chunk #5 = documents up to #11314/11314, outstanding queue size 6\n",
      "2022-06-02 23:48:33,741 : INFO : topic #12 (0.067): 0.007*\"entri\" + 0.007*\"file\" + 0.006*\"output\" + 0.006*\"program\" + 0.005*\"appl\" + 0.005*\"problem\" + 0.004*\"time\" + 0.004*\"mous\" + 0.004*\"need\" + 0.003*\"read\"\n",
      "2022-06-02 23:48:33,744 : INFO : topic #1 (0.067): 0.011*\"key\" + 0.009*\"drive\" + 0.008*\"chip\" + 0.008*\"system\" + 0.007*\"encrypt\" + 0.006*\"scsi\" + 0.005*\"clipper\" + 0.005*\"disk\" + 0.005*\"bit\" + 0.005*\"secur\"\n",
      "2022-06-02 23:48:33,749 : INFO : topic #7 (0.067): 0.009*\"window\" + 0.008*\"file\" + 0.005*\"program\" + 0.005*\"imag\" + 0.005*\"system\" + 0.004*\"graphic\" + 0.004*\"work\" + 0.004*\"version\" + 0.004*\"comput\" + 0.004*\"also\"\n",
      "2022-06-02 23:48:33,756 : INFO : topic #5 (0.067): 0.011*\"peopl\" + 0.009*\"god\" + 0.008*\"say\" + 0.006*\"think\" + 0.005*\"right\" + 0.005*\"christian\" + 0.005*\"believ\" + 0.004*\"said\" + 0.004*\"thing\" + 0.004*\"time\"\n",
      "2022-06-02 23:48:33,758 : INFO : topic #10 (0.067): 0.010*\"car\" + 0.005*\"think\" + 0.004*\"peopl\" + 0.004*\"time\" + 0.004*\"year\" + 0.004*\"israel\" + 0.004*\"presid\" + 0.003*\"work\" + 0.003*\"new\" + 0.003*\"make\"\n",
      "2022-06-02 23:48:33,765 : INFO : topic diff=0.441594, rho=0.245020\n",
      "2022-06-02 23:48:33,786 : INFO : PROGRESS: pass 11, dispatched chunk #0 = documents up to #2000/11314, outstanding queue size 1\n",
      "2022-06-02 23:48:33,904 : INFO : PROGRESS: pass 11, dispatched chunk #1 = documents up to #4000/11314, outstanding queue size 2\n",
      "2022-06-02 23:48:34,005 : INFO : PROGRESS: pass 11, dispatched chunk #2 = documents up to #6000/11314, outstanding queue size 3\n",
      "2022-06-02 23:48:34,008 : INFO : PROGRESS: pass 11, dispatched chunk #3 = documents up to #8000/11314, outstanding queue size 4\n",
      "2022-06-02 23:48:34,019 : INFO : PROGRESS: pass 11, dispatched chunk #4 = documents up to #10000/11314, outstanding queue size 5\n",
      "2022-06-02 23:48:34,023 : INFO : PROGRESS: pass 11, dispatched chunk #5 = documents up to #11314/11314, outstanding queue size 6\n",
      "2022-06-02 23:48:53,021 : INFO : topic #10 (0.067): 0.010*\"car\" + 0.005*\"think\" + 0.004*\"peopl\" + 0.004*\"time\" + 0.004*\"year\" + 0.004*\"israel\" + 0.004*\"presid\" + 0.004*\"work\" + 0.003*\"new\" + 0.003*\"isra\"\n",
      "2022-06-02 23:48:53,023 : INFO : topic #1 (0.067): 0.011*\"key\" + 0.009*\"drive\" + 0.008*\"chip\" + 0.008*\"system\" + 0.007*\"encrypt\" + 0.006*\"scsi\" + 0.005*\"clipper\" + 0.005*\"disk\" + 0.005*\"bit\" + 0.005*\"secur\"\n"
     ]
    },
    {
     "name": "stderr",
     "output_type": "stream",
     "text": [
      "2022-06-02 23:48:53,027 : INFO : topic #9 (0.067): 0.004*\"play\" + 0.004*\"period\" + 0.004*\"jew\" + 0.003*\"isra\" + 0.003*\"indiana\" + 0.003*\"new\" + 0.003*\"key\" + 0.003*\"israel\" + 0.003*\"power\" + 0.003*\"say\"\n",
      "2022-06-02 23:48:53,029 : INFO : topic #13 (0.067): 0.006*\"scienc\" + 0.006*\"utexa\" + 0.006*\"msg\" + 0.005*\"food\" + 0.005*\"think\" + 0.005*\"window\" + 0.004*\"make\" + 0.003*\"austin\" + 0.003*\"time\" + 0.003*\"uiuc\"\n",
      "2022-06-02 23:48:53,030 : INFO : topic #2 (0.067): 0.010*\"game\" + 0.009*\"team\" + 0.008*\"year\" + 0.006*\"player\" + 0.006*\"play\" + 0.005*\"win\" + 0.005*\"think\" + 0.004*\"good\" + 0.004*\"hockey\" + 0.004*\"time\"\n",
      "2022-06-02 23:48:53,032 : INFO : topic diff=0.406671, rho=0.237981\n",
      "2022-06-02 23:48:53,034 : INFO : PROGRESS: pass 12, dispatched chunk #0 = documents up to #2000/11314, outstanding queue size 1\n",
      "2022-06-02 23:48:53,116 : INFO : PROGRESS: pass 12, dispatched chunk #1 = documents up to #4000/11314, outstanding queue size 2\n",
      "2022-06-02 23:48:53,117 : INFO : PROGRESS: pass 12, dispatched chunk #2 = documents up to #6000/11314, outstanding queue size 3\n",
      "2022-06-02 23:48:53,120 : INFO : PROGRESS: pass 12, dispatched chunk #3 = documents up to #8000/11314, outstanding queue size 4\n",
      "2022-06-02 23:48:53,125 : INFO : PROGRESS: pass 12, dispatched chunk #4 = documents up to #10000/11314, outstanding queue size 5\n",
      "2022-06-02 23:48:53,128 : INFO : PROGRESS: pass 12, dispatched chunk #5 = documents up to #11314/11314, outstanding queue size 6\n",
      "2022-06-02 23:49:05,866 : INFO : topic #13 (0.067): 0.007*\"scienc\" + 0.006*\"utexa\" + 0.006*\"msg\" + 0.005*\"food\" + 0.005*\"think\" + 0.004*\"window\" + 0.004*\"make\" + 0.004*\"uiuc\" + 0.003*\"austin\" + 0.003*\"time\"\n",
      "2022-06-02 23:49:05,868 : INFO : topic #14 (0.067): 0.004*\"stratu\" + 0.004*\"gun\" + 0.003*\"year\" + 0.003*\"new\" + 0.003*\"fire\" + 0.003*\"dog\" + 0.003*\"000\" + 0.003*\"weapon\" + 0.003*\"distribut\" + 0.003*\"peopl\"\n",
      "2022-06-02 23:49:05,871 : INFO : topic #1 (0.067): 0.012*\"key\" + 0.009*\"drive\" + 0.008*\"chip\" + 0.008*\"system\" + 0.008*\"encrypt\" + 0.007*\"scsi\" + 0.005*\"clipper\" + 0.005*\"disk\" + 0.005*\"bit\" + 0.005*\"secur\"\n",
      "2022-06-02 23:49:05,874 : INFO : topic #8 (0.067): 0.008*\"god\" + 0.007*\"christian\" + 0.005*\"church\" + 0.005*\"religion\" + 0.005*\"islam\" + 0.005*\"law\" + 0.005*\"peopl\" + 0.004*\"think\" + 0.004*\"believ\" + 0.004*\"bibl\"\n",
      "2022-06-02 23:49:05,882 : INFO : topic #11 (0.067): 0.011*\"space\" + 0.008*\"nasa\" + 0.006*\"gun\" + 0.005*\"gov\" + 0.004*\"year\" + 0.004*\"orbit\" + 0.004*\"launch\" + 0.003*\"center\" + 0.003*\"system\" + 0.003*\"new\"\n",
      "2022-06-02 23:49:05,890 : INFO : topic diff=0.372694, rho=0.231515\n",
      "2022-06-02 23:49:05,894 : INFO : PROGRESS: pass 13, dispatched chunk #0 = documents up to #2000/11314, outstanding queue size 1\n",
      "2022-06-02 23:49:06,053 : INFO : PROGRESS: pass 13, dispatched chunk #1 = documents up to #4000/11314, outstanding queue size 2\n",
      "2022-06-02 23:49:06,069 : INFO : PROGRESS: pass 13, dispatched chunk #2 = documents up to #6000/11314, outstanding queue size 3\n",
      "2022-06-02 23:49:06,094 : INFO : PROGRESS: pass 13, dispatched chunk #3 = documents up to #8000/11314, outstanding queue size 4\n",
      "2022-06-02 23:49:06,109 : INFO : PROGRESS: pass 13, dispatched chunk #4 = documents up to #10000/11314, outstanding queue size 5\n",
      "2022-06-02 23:49:06,535 : INFO : PROGRESS: pass 13, dispatched chunk #5 = documents up to #11314/11314, outstanding queue size 6\n",
      "2022-06-02 23:49:21,729 : INFO : topic #7 (0.067): 0.010*\"window\" + 0.008*\"file\" + 0.006*\"program\" + 0.005*\"imag\" + 0.005*\"system\" + 0.004*\"graphic\" + 0.004*\"version\" + 0.004*\"thank\" + 0.004*\"run\" + 0.004*\"work\"\n",
      "2022-06-02 23:49:21,730 : INFO : topic #10 (0.067): 0.010*\"car\" + 0.005*\"think\" + 0.004*\"peopl\" + 0.004*\"israel\" + 0.004*\"time\" + 0.004*\"year\" + 0.004*\"presid\" + 0.004*\"work\" + 0.003*\"new\" + 0.003*\"make\"\n",
      "2022-06-02 23:49:21,732 : INFO : topic #9 (0.067): 0.004*\"isra\" + 0.004*\"play\" + 0.004*\"period\" + 0.004*\"jew\" + 0.004*\"indiana\" + 0.003*\"new\" + 0.003*\"mcgill\" + 0.003*\"israel\" + 0.003*\"arab\" + 0.003*\"power\"\n",
      "2022-06-02 23:49:21,735 : INFO : topic #3 (0.067): 0.006*\"wire\" + 0.005*\"ground\" + 0.004*\"thing\" + 0.004*\"make\" + 0.003*\"need\" + 0.003*\"work\" + 0.003*\"power\" + 0.003*\"gun\" + 0.003*\"want\" + 0.003*\"circuit\"\n",
      "2022-06-02 23:49:21,738 : INFO : topic #4 (0.067): 0.014*\"armenian\" + 0.008*\"turkish\" + 0.006*\"peopl\" + 0.005*\"govern\" + 0.005*\"state\" + 0.004*\"file\" + 0.004*\"gun\" + 0.004*\"turk\" + 0.004*\"armenia\" + 0.004*\"turkey\"\n",
      "2022-06-02 23:49:21,740 : INFO : topic diff=0.340375, rho=0.225549\n",
      "2022-06-02 23:49:21,743 : INFO : PROGRESS: pass 14, dispatched chunk #0 = documents up to #2000/11314, outstanding queue size 1\n",
      "2022-06-02 23:49:21,829 : INFO : PROGRESS: pass 14, dispatched chunk #1 = documents up to #4000/11314, outstanding queue size 2\n",
      "2022-06-02 23:49:21,833 : INFO : PROGRESS: pass 14, dispatched chunk #2 = documents up to #6000/11314, outstanding queue size 3\n",
      "2022-06-02 23:49:21,835 : INFO : PROGRESS: pass 14, dispatched chunk #3 = documents up to #8000/11314, outstanding queue size 4\n",
      "2022-06-02 23:49:21,839 : INFO : PROGRESS: pass 14, dispatched chunk #4 = documents up to #10000/11314, outstanding queue size 5\n",
      "2022-06-02 23:49:21,842 : INFO : PROGRESS: pass 14, dispatched chunk #5 = documents up to #11314/11314, outstanding queue size 6\n",
      "2022-06-02 23:49:32,527 : INFO : topic #3 (0.067): 0.006*\"wire\" + 0.005*\"ground\" + 0.004*\"thing\" + 0.004*\"make\" + 0.004*\"need\" + 0.004*\"work\" + 0.003*\"power\" + 0.003*\"want\" + 0.003*\"gun\" + 0.003*\"circuit\"\n",
      "2022-06-02 23:49:32,529 : INFO : topic #9 (0.067): 0.004*\"isra\" + 0.004*\"jew\" + 0.004*\"period\" + 0.004*\"indiana\" + 0.004*\"play\" + 0.003*\"new\" + 0.003*\"mcgill\" + 0.003*\"israel\" + 0.003*\"arab\" + 0.003*\"power\"\n",
      "2022-06-02 23:49:32,531 : INFO : topic #4 (0.067): 0.014*\"armenian\" + 0.008*\"turkish\" + 0.006*\"peopl\" + 0.005*\"govern\" + 0.005*\"state\" + 0.005*\"gun\" + 0.004*\"file\" + 0.004*\"turk\" + 0.004*\"armenia\" + 0.004*\"turkey\"\n",
      "2022-06-02 23:49:32,533 : INFO : topic #6 (0.067): 0.134*\"max\" + 0.035*\"g9v\" + 0.033*\"b8f\" + 0.030*\"a86\" + 0.028*\"145\" + 0.020*\"1d9\" + 0.018*\"34u\" + 0.015*\"75u\" + 0.015*\"2di\" + 0.014*\"bhj\"\n",
      "2022-06-02 23:49:32,535 : INFO : topic #14 (0.067): 0.004*\"stratu\" + 0.004*\"gun\" + 0.003*\"fire\" + 0.003*\"dog\" + 0.003*\"new\" + 0.003*\"weapon\" + 0.003*\"sun\" + 0.003*\"year\" + 0.003*\"distribut\" + 0.003*\"000\"\n",
      "2022-06-02 23:49:32,537 : INFO : topic diff=0.310038, rho=0.220022\n",
      "2022-06-02 23:49:32,571 : INFO : PROGRESS: pass 15, dispatched chunk #0 = documents up to #2000/11314, outstanding queue size 1\n",
      "2022-06-02 23:49:32,662 : INFO : PROGRESS: pass 15, dispatched chunk #1 = documents up to #4000/11314, outstanding queue size 2\n",
      "2022-06-02 23:49:32,666 : INFO : PROGRESS: pass 15, dispatched chunk #2 = documents up to #6000/11314, outstanding queue size 3\n",
      "2022-06-02 23:49:32,667 : INFO : PROGRESS: pass 15, dispatched chunk #3 = documents up to #8000/11314, outstanding queue size 4\n",
      "2022-06-02 23:49:32,671 : INFO : PROGRESS: pass 15, dispatched chunk #4 = documents up to #10000/11314, outstanding queue size 5\n",
      "2022-06-02 23:49:32,762 : INFO : PROGRESS: pass 15, dispatched chunk #5 = documents up to #11314/11314, outstanding queue size 6\n",
      "2022-06-02 23:49:40,875 : INFO : topic #2 (0.067): 0.012*\"game\" + 0.009*\"team\" + 0.008*\"year\" + 0.007*\"player\" + 0.006*\"play\" + 0.006*\"win\" + 0.005*\"think\" + 0.004*\"good\" + 0.004*\"hockey\" + 0.004*\"season\"\n",
      "2022-06-02 23:49:40,876 : INFO : topic #8 (0.067): 0.008*\"god\" + 0.007*\"christian\" + 0.005*\"church\" + 0.005*\"religion\" + 0.005*\"law\" + 0.005*\"islam\" + 0.005*\"peopl\" + 0.004*\"bibl\" + 0.004*\"believ\" + 0.004*\"think\"\n",
      "2022-06-02 23:49:40,879 : INFO : topic #9 (0.067): 0.004*\"isra\" + 0.004*\"jew\" + 0.004*\"period\" + 0.004*\"indiana\" + 0.004*\"play\" + 0.004*\"mcgill\" + 0.004*\"israel\" + 0.003*\"new\" + 0.003*\"arab\" + 0.003*\"power\"\n",
      "2022-06-02 23:49:40,882 : INFO : topic #4 (0.067): 0.014*\"armenian\" + 0.008*\"turkish\" + 0.006*\"peopl\" + 0.005*\"govern\" + 0.005*\"state\" + 0.005*\"gun\" + 0.004*\"file\" + 0.004*\"armenia\" + 0.004*\"turk\" + 0.004*\"turkey\"\n",
      "2022-06-02 23:49:40,885 : INFO : topic #11 (0.067): 0.011*\"space\" + 0.008*\"nasa\" + 0.005*\"gun\" + 0.005*\"gov\" + 0.005*\"year\" + 0.004*\"orbit\" + 0.004*\"launch\" + 0.004*\"center\" + 0.003*\"system\" + 0.003*\"research\"\n",
      "2022-06-02 23:49:40,889 : INFO : topic diff=0.281988, rho=0.214882\n",
      "2022-06-02 23:49:40,891 : INFO : PROGRESS: pass 16, dispatched chunk #0 = documents up to #2000/11314, outstanding queue size 1\n"
     ]
    },
    {
     "name": "stderr",
     "output_type": "stream",
     "text": [
      "2022-06-02 23:49:40,995 : INFO : PROGRESS: pass 16, dispatched chunk #1 = documents up to #4000/11314, outstanding queue size 2\n",
      "2022-06-02 23:49:41,001 : INFO : PROGRESS: pass 16, dispatched chunk #2 = documents up to #6000/11314, outstanding queue size 3\n",
      "2022-06-02 23:49:41,005 : INFO : PROGRESS: pass 16, dispatched chunk #3 = documents up to #8000/11314, outstanding queue size 4\n",
      "2022-06-02 23:49:41,089 : INFO : PROGRESS: pass 16, dispatched chunk #4 = documents up to #10000/11314, outstanding queue size 5\n",
      "2022-06-02 23:49:41,091 : INFO : PROGRESS: pass 16, dispatched chunk #5 = documents up to #11314/11314, outstanding queue size 6\n",
      "2022-06-02 23:49:53,505 : INFO : topic #2 (0.067): 0.012*\"game\" + 0.009*\"team\" + 0.008*\"year\" + 0.007*\"player\" + 0.006*\"play\" + 0.006*\"win\" + 0.005*\"think\" + 0.004*\"good\" + 0.004*\"hockey\" + 0.004*\"season\"\n",
      "2022-06-02 23:49:53,508 : INFO : topic #12 (0.067): 0.008*\"entri\" + 0.007*\"file\" + 0.007*\"appl\" + 0.007*\"output\" + 0.007*\"program\" + 0.005*\"problem\" + 0.004*\"time\" + 0.004*\"mous\" + 0.004*\"simm\" + 0.004*\"need\"\n",
      "2022-06-02 23:49:53,511 : INFO : topic #3 (0.067): 0.006*\"wire\" + 0.005*\"ground\" + 0.004*\"thing\" + 0.004*\"make\" + 0.004*\"work\" + 0.004*\"need\" + 0.004*\"power\" + 0.003*\"want\" + 0.003*\"circuit\" + 0.003*\"good\"\n",
      "2022-06-02 23:49:53,516 : INFO : topic #1 (0.067): 0.013*\"key\" + 0.010*\"drive\" + 0.009*\"chip\" + 0.008*\"system\" + 0.008*\"encrypt\" + 0.007*\"scsi\" + 0.005*\"clipper\" + 0.005*\"disk\" + 0.005*\"secur\" + 0.005*\"bit\"\n",
      "2022-06-02 23:49:53,520 : INFO : topic #11 (0.067): 0.012*\"space\" + 0.009*\"nasa\" + 0.005*\"gun\" + 0.005*\"gov\" + 0.005*\"year\" + 0.004*\"orbit\" + 0.004*\"launch\" + 0.004*\"center\" + 0.003*\"research\" + 0.003*\"system\"\n",
      "2022-06-02 23:49:53,523 : INFO : topic diff=0.256231, rho=0.210087\n",
      "2022-06-02 23:49:53,528 : INFO : PROGRESS: pass 17, dispatched chunk #0 = documents up to #2000/11314, outstanding queue size 1\n",
      "2022-06-02 23:49:53,640 : INFO : PROGRESS: pass 17, dispatched chunk #1 = documents up to #4000/11314, outstanding queue size 2\n",
      "2022-06-02 23:49:53,642 : INFO : PROGRESS: pass 17, dispatched chunk #2 = documents up to #6000/11314, outstanding queue size 3\n",
      "2022-06-02 23:49:53,646 : INFO : PROGRESS: pass 17, dispatched chunk #3 = documents up to #8000/11314, outstanding queue size 4\n",
      "2022-06-02 23:49:53,650 : INFO : PROGRESS: pass 17, dispatched chunk #4 = documents up to #10000/11314, outstanding queue size 5\n",
      "2022-06-02 23:49:53,652 : INFO : PROGRESS: pass 17, dispatched chunk #5 = documents up to #11314/11314, outstanding queue size 6\n",
      "2022-06-02 23:50:13,120 : INFO : topic #1 (0.067): 0.013*\"key\" + 0.010*\"drive\" + 0.009*\"chip\" + 0.008*\"system\" + 0.008*\"encrypt\" + 0.007*\"scsi\" + 0.005*\"clipper\" + 0.005*\"disk\" + 0.005*\"secur\" + 0.005*\"bit\"\n",
      "2022-06-02 23:50:13,122 : INFO : topic #2 (0.067): 0.012*\"game\" + 0.009*\"team\" + 0.008*\"year\" + 0.007*\"player\" + 0.007*\"play\" + 0.006*\"win\" + 0.005*\"think\" + 0.004*\"good\" + 0.004*\"hockey\" + 0.004*\"season\"\n",
      "2022-06-02 23:50:13,127 : INFO : topic #6 (0.067): 0.143*\"max\" + 0.037*\"g9v\" + 0.035*\"b8f\" + 0.032*\"a86\" + 0.030*\"145\" + 0.021*\"1d9\" + 0.019*\"34u\" + 0.016*\"75u\" + 0.015*\"2di\" + 0.014*\"bhj\"\n",
      "2022-06-02 23:50:13,129 : INFO : topic #9 (0.067): 0.005*\"isra\" + 0.004*\"jew\" + 0.004*\"period\" + 0.004*\"indiana\" + 0.004*\"israel\" + 0.004*\"mcgill\" + 0.004*\"arab\" + 0.004*\"play\" + 0.004*\"new\" + 0.003*\"power\"\n",
      "2022-06-02 23:50:13,133 : INFO : topic #0 (0.067): 0.006*\"state\" + 0.006*\"ohio\" + 0.005*\"medic\" + 0.005*\"diseas\" + 0.005*\"drug\" + 0.005*\"health\" + 0.004*\"patient\" + 0.004*\"doctor\" + 0.004*\"day\" + 0.004*\"magnu\"\n",
      "2022-06-02 23:50:13,140 : INFO : topic diff=0.232812, rho=0.205599\n",
      "2022-06-02 23:50:13,143 : INFO : PROGRESS: pass 18, dispatched chunk #0 = documents up to #2000/11314, outstanding queue size 1\n",
      "2022-06-02 23:50:13,268 : INFO : PROGRESS: pass 18, dispatched chunk #1 = documents up to #4000/11314, outstanding queue size 2\n",
      "2022-06-02 23:50:13,277 : INFO : PROGRESS: pass 18, dispatched chunk #2 = documents up to #6000/11314, outstanding queue size 3\n",
      "2022-06-02 23:50:13,284 : INFO : PROGRESS: pass 18, dispatched chunk #3 = documents up to #8000/11314, outstanding queue size 4\n",
      "2022-06-02 23:50:13,482 : INFO : PROGRESS: pass 18, dispatched chunk #4 = documents up to #10000/11314, outstanding queue size 5\n",
      "2022-06-02 23:50:13,484 : INFO : PROGRESS: pass 18, dispatched chunk #5 = documents up to #11314/11314, outstanding queue size 6\n",
      "2022-06-02 23:50:30,748 : INFO : topic #8 (0.067): 0.008*\"god\" + 0.008*\"christian\" + 0.006*\"church\" + 0.005*\"religion\" + 0.005*\"law\" + 0.005*\"islam\" + 0.005*\"peopl\" + 0.005*\"bibl\" + 0.005*\"book\" + 0.004*\"believ\"\n",
      "2022-06-02 23:50:30,750 : INFO : topic #6 (0.067): 0.145*\"max\" + 0.037*\"g9v\" + 0.036*\"b8f\" + 0.032*\"a86\" + 0.030*\"145\" + 0.022*\"1d9\" + 0.020*\"34u\" + 0.016*\"75u\" + 0.016*\"2di\" + 0.015*\"bhj\"\n",
      "2022-06-02 23:50:30,754 : INFO : topic #9 (0.067): 0.005*\"isra\" + 0.004*\"jew\" + 0.004*\"period\" + 0.004*\"indiana\" + 0.004*\"israel\" + 0.004*\"mcgill\" + 0.004*\"arab\" + 0.004*\"play\" + 0.004*\"new\" + 0.003*\"power\"\n",
      "2022-06-02 23:50:30,761 : INFO : topic #3 (0.067): 0.006*\"wire\" + 0.005*\"ground\" + 0.004*\"thing\" + 0.004*\"work\" + 0.004*\"need\" + 0.004*\"make\" + 0.004*\"power\" + 0.003*\"want\" + 0.003*\"good\" + 0.003*\"circuit\"\n",
      "2022-06-02 23:50:30,763 : INFO : topic #0 (0.067): 0.006*\"state\" + 0.006*\"ohio\" + 0.005*\"medic\" + 0.005*\"diseas\" + 0.005*\"health\" + 0.005*\"drug\" + 0.004*\"patient\" + 0.004*\"doctor\" + 0.004*\"magnu\" + 0.004*\"day\"\n",
      "2022-06-02 23:50:30,766 : INFO : topic diff=0.211589, rho=0.201386\n",
      "2022-06-02 23:50:30,768 : INFO : PROGRESS: pass 19, dispatched chunk #0 = documents up to #2000/11314, outstanding queue size 1\n",
      "2022-06-02 23:50:30,871 : INFO : PROGRESS: pass 19, dispatched chunk #1 = documents up to #4000/11314, outstanding queue size 2\n",
      "2022-06-02 23:50:31,105 : INFO : PROGRESS: pass 19, dispatched chunk #2 = documents up to #6000/11314, outstanding queue size 3\n",
      "2022-06-02 23:50:31,113 : INFO : PROGRESS: pass 19, dispatched chunk #3 = documents up to #8000/11314, outstanding queue size 4\n",
      "2022-06-02 23:50:31,115 : INFO : PROGRESS: pass 19, dispatched chunk #4 = documents up to #10000/11314, outstanding queue size 5\n",
      "2022-06-02 23:50:31,119 : INFO : PROGRESS: pass 19, dispatched chunk #5 = documents up to #11314/11314, outstanding queue size 6\n",
      "2022-06-02 23:50:59,638 : INFO : topic #14 (0.067): 0.004*\"stratu\" + 0.004*\"gun\" + 0.004*\"fire\" + 0.004*\"sun\" + 0.004*\"dog\" + 0.003*\"bike\" + 0.003*\"weapon\" + 0.003*\"distribut\" + 0.003*\"mike\" + 0.003*\"new\"\n",
      "2022-06-02 23:50:59,643 : INFO : topic #9 (0.067): 0.005*\"isra\" + 0.005*\"jew\" + 0.004*\"period\" + 0.004*\"israel\" + 0.004*\"indiana\" + 0.004*\"arab\" + 0.004*\"mcgill\" + 0.004*\"new\" + 0.004*\"play\" + 0.003*\"power\"\n",
      "2022-06-02 23:50:59,645 : INFO : topic #7 (0.067): 0.012*\"window\" + 0.009*\"file\" + 0.006*\"program\" + 0.005*\"system\" + 0.005*\"imag\" + 0.005*\"version\" + 0.005*\"graphic\" + 0.005*\"mail\" + 0.005*\"thank\" + 0.005*\"run\"\n",
      "2022-06-02 23:50:59,649 : INFO : topic #13 (0.067): 0.007*\"scienc\" + 0.007*\"utexa\" + 0.006*\"msg\" + 0.006*\"food\" + 0.006*\"uiuc\" + 0.005*\"think\" + 0.005*\"cso\" + 0.004*\"austin\" + 0.004*\"make\" + 0.003*\"time\"\n",
      "2022-06-02 23:50:59,651 : INFO : topic #8 (0.067): 0.009*\"god\" + 0.008*\"christian\" + 0.006*\"church\" + 0.005*\"law\" + 0.005*\"religion\" + 0.005*\"islam\" + 0.005*\"peopl\" + 0.005*\"bibl\" + 0.005*\"book\" + 0.005*\"believ\"\n",
      "2022-06-02 23:50:59,656 : INFO : topic diff=0.192432, rho=0.197423\n",
      "2022-06-02 23:50:59,707 : INFO : LdaMulticore lifecycle event {'msg': 'trained LdaMulticore<num_terms=18389, num_topics=15, decay=0.5, chunksize=2000> in 368.03s', 'datetime': '2022-06-02T23:50:59.707093', 'gensim': '4.2.0', 'python': '3.8.8 (default, Apr 13 2021, 12:59:45) \\n[Clang 10.0.0 ]', 'platform': 'macOS-10.15.7-x86_64-i386-64bit', 'event': 'created'}\n"
     ]
    }
   ],
   "source": [
    "from gensim.models import LdaMulticore\n",
    "num_topics = 15\n",
    "\n",
    "# fit cleaned dataset for two LDA models\n",
    "lda_fst = LdaMulticore(\n",
    "    corpus=d2b_dataset, num_topics=num_topics, id2word=dictionary,\n",
    "    workers=4, eval_every=None, passes=10, batch=True,\n",
    ")\n",
    "\n",
    "lda_snd = LdaMulticore(\n",
    "    corpus=d2b_dataset, num_topics=num_topics, id2word=dictionary,\n",
    "    workers=4, eval_every=None, passes=20, batch=True,\n",
    ")"
   ]
  },
  {
   "cell_type": "code",
   "execution_count": null,
   "id": "9de6d5ba",
   "metadata": {},
   "outputs": [],
   "source": []
  },
  {
   "cell_type": "code",
   "execution_count": 10,
   "id": "93cb8932",
   "metadata": {},
   "outputs": [],
   "source": [
    "def plot_difference_plotly(mdiff, title=\"\", annotation=None):\n",
    "    \"\"\"Plot the difference between models.\n",
    "\n",
    "    Uses plotly as the backend.\"\"\"\n",
    "    import plotly.graph_objs as go\n",
    "    import plotly.offline as py\n",
    "\n",
    "    annotation_html = None\n",
    "    if annotation is not None:\n",
    "        annotation_html = [\n",
    "            [\n",
    "                \"+++ {}<br>--- {}\".format(\", \".join(int_tokens), \", \".join(diff_tokens))\n",
    "                for (int_tokens, diff_tokens) in row\n",
    "            ]\n",
    "            for row in annotation\n",
    "        ]\n",
    "\n",
    "    data = go.Heatmap(z=mdiff, colorscale='RdBu', text=annotation_html)\n",
    "    layout = go.Layout(width=950, height=950, title=title, xaxis=dict(title=\"topic\"), yaxis=dict(title=\"topic\"))\n",
    "    py.iplot(dict(data=[data], layout=layout))\n",
    "\n",
    "\n",
    "def plot_difference_matplotlib(mdiff, title=\"\", annotation=None):\n",
    "    \"\"\"Helper function to plot difference between models.\n",
    "\n",
    "    Uses matplotlib as the backend.\"\"\"\n",
    "    import matplotlib.pyplot as plt\n",
    "    fig, ax = plt.subplots(figsize=(18, 14))\n",
    "    data = ax.imshow(mdiff, cmap='RdBu_r', origin='lower')\n",
    "    plt.title(title)\n",
    "    plt.colorbar(data)\n",
    "\n",
    "\n",
    "try:\n",
    "    get_ipython()\n",
    "    import plotly.offline as py\n",
    "except Exception:\n",
    "    #\n",
    "    # Fall back to matplotlib if we're not in a notebook, or if plotly is\n",
    "    # unavailable for whatever reason.\n",
    "    #\n",
    "    plot_difference = plot_difference_matplotlib\n",
    "else:\n",
    "    py.init_notebook_mode()\n",
    "    plot_difference = plot_difference_plotly"
   ]
  },
  {
   "cell_type": "code",
   "execution_count": 11,
   "id": "e0ad26ec",
   "metadata": {},
   "outputs": [
    {
     "name": "stdout",
     "output_type": "stream",
     "text": [
      "Calculate the difference in topic distributions between two models: `self` and `other`.\n",
      "\n",
      "        Parameters\n",
      "        ----------\n",
      "        other : :class:`~gensim.models.ldamodel.LdaModel`\n",
      "            The model which will be compared against the current object.\n",
      "        distance : {'kullback_leibler', 'hellinger', 'jaccard', 'jensen_shannon'}\n",
      "            The distance metric to calculate the difference with.\n",
      "        num_words : int, optional\n",
      "            The number of most relevant words used if `distance == 'jaccard'`. Also used for annotating topics.\n",
      "        n_ann_terms : int, optional\n",
      "            Max number of words in intersection/symmetric difference between topics. Used for annotation.\n",
      "        diagonal : bool, optional\n",
      "            Whether we need the difference between identical topics (the diagonal of the difference matrix).\n",
      "        annotation : bool, optional\n",
      "            Whether the intersection or difference of words between two topics should be returned.\n",
      "        normed : bool, optional\n",
      "            Whether the matrix should be normalized or not.\n",
      "\n",
      "        Returns\n",
      "        -------\n",
      "        numpy.ndarray\n",
      "            A difference matrix. Each element corresponds to the difference between the two topics,\n",
      "            shape (`self.num_topics`, `other.num_topics`)\n",
      "        numpy.ndarray, optional\n",
      "            Annotation matrix where for each pair we include the word from the intersection of the two topics,\n",
      "            and the word from the symmetric difference of the two topics. Only included if `annotation == True`.\n",
      "            Shape (`self.num_topics`, `other_model.num_topics`, 2).\n",
      "\n",
      "        Examples\n",
      "        --------\n",
      "        Get the differences between each pair of topics inferred by two models\n",
      "\n",
      "        .. sourcecode:: pycon\n",
      "\n",
      "            >>> from gensim.models.ldamulticore import LdaMulticore\n",
      "            >>> from gensim.test.utils import datapath\n",
      "            >>>\n",
      "            >>> m1 = LdaMulticore.load(datapath(\"lda_3_0_1_model\"))\n",
      "            >>> m2 = LdaMulticore.load(datapath(\"ldamodel_python_3_5\"))\n",
      "            >>> mdiff, annotation = m1.diff(m2)\n",
      "            >>> topic_diff = mdiff  # get matrix with difference for each topic pair from `m1` and `m2`\n",
      "\n",
      "        \n"
     ]
    }
   ],
   "source": [
    "print(LdaMulticore.diff.__doc__)"
   ]
  },
  {
   "cell_type": "markdown",
   "id": "8fd57fa7",
   "metadata": {},
   "source": [
    "# Case 1: How topics within ONE model correlate with each other.\n",
    "\n",
    "Short description (interactive annotations only):\n",
    "\n",
    "* ``+++ make, world, well`` - words from the intersection of topics = present in both topics;\n",
    "\n",
    "* ``--- money, day, still`` - words from the symmetric difference of topics = present in one topic but not the other.\n",
    "\n",
    "\n"
   ]
  },
  {
   "cell_type": "code",
   "execution_count": 12,
   "id": "28db1092",
   "metadata": {},
   "outputs": [
    {
     "data": {
      "image/png": "[encoded data removed]",
      "text/plain": [
       "<Figure size 1296x1008 with 2 Axes>"
      ]
     },
     "metadata": {
      "needs_background": "light"
     },
     "output_type": "display_data"
    }
   ],
   "source": [
    "import numpy as np\n",
    "\n",
    "mdiff = np.ones((num_topics, num_topics))\n",
    "np.fill_diagonal(mdiff, 0.)\n",
    "plot_difference(mdiff, title=\"Topic difference (one model) in ideal world\")"
   ]
  },
  {
   "cell_type": "code",
   "execution_count": 13,
   "id": "c9e3424c",
   "metadata": {},
   "outputs": [
    {
     "data": {
      "image/png": "[encoded data removed]",
      "text/plain": [
       "<Figure size 1296x1008 with 2 Axes>"
      ]
     },
     "metadata": {
      "needs_background": "light"
     },
     "output_type": "display_data"
    }
   ],
   "source": [
    "mdiff, annotation = lda_fst.diff(lda_fst, distance='jaccard', num_words=50)\n",
    "plot_difference(mdiff, title=\"Topic difference (one model) [jaccard distance]\", annotation=annotation)"
   ]
  },
  {
   "cell_type": "code",
   "execution_count": 14,
   "id": "29ca3bca",
   "metadata": {},
   "outputs": [
    {
     "data": {
      "image/png": "[encoded data removed]",
      "text/plain": [
       "<Figure size 1296x1008 with 2 Axes>"
      ]
     },
     "metadata": {
      "needs_background": "light"
     },
     "output_type": "display_data"
    }
   ],
   "source": [
    "mdiff, annotation = lda_fst.diff(lda_fst, distance='hellinger', num_words=50)\n",
    "plot_difference(mdiff, title=\"Topic difference (one model)[hellinger distance]\", annotation=annotation)"
   ]
  },
  {
   "cell_type": "markdown",
   "id": "716de6dd",
   "metadata": {},
   "source": [
    "## Case 2: How topics from DIFFERENT models correlate with each other.\n",
    "\n",
    "- Sometimes, we want to look at the patterns between two different models and compare them.\n",
    "- You can do this by constructing a matrix with the difference.\n",
    "- Looking at this matrix, you can find similar and different topics between the two models. The plot also includes relevant tokens describing the topics' intersection and difference.\n",
    "\n"
   ]
  },
  {
   "cell_type": "code",
   "execution_count": 15,
   "id": "10bd799f",
   "metadata": {},
   "outputs": [
    {
     "data": {
      "image/png": "[encoded data removed]",
      "text/plain": [
       "<Figure size 1296x1008 with 2 Axes>"
      ]
     },
     "metadata": {
      "needs_background": "light"
     },
     "output_type": "display_data"
    }
   ],
   "source": [
    "mdiff, annotation = lda_fst.diff(lda_snd, distance='jaccard', num_words=50)\n",
    "plot_difference(mdiff, title=\"Topic difference (two models)[jaccard distance]\", annotation=annotation)"
   ]
  },
  {
   "cell_type": "code",
   "execution_count": null,
   "id": "83cf7ed0",
   "metadata": {},
   "outputs": [],
   "source": []
  }
 ],
 "metadata": {
  "kernelspec": {
   "display_name": "Python 3",
   "language": "python",
   "name": "python3"
  },
  "language_info": {
   "codemirror_mode": {
    "name": "ipython",
    "version": 3
   },
   "file_extension": ".py",
   "mimetype": "text/x-python",
   "name": "python",
   "nbconvert_exporter": "python",
   "pygments_lexer": "ipython3",
   "version": "3.8.8"
  }
 },
 "nbformat": 4,
 "nbformat_minor": 5
}
