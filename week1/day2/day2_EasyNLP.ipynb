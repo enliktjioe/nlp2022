{
 "cells": [
  {
   "cell_type": "markdown",
   "id": "fced6e92",
   "metadata": {},
   "source": [
    "# Reference\n",
    "\n",
    "- https://github.com/easynlp/easynlp"
   ]
  },
  {
   "cell_type": "code",
   "execution_count": 16,
   "id": "c5283f64",
   "metadata": {},
   "outputs": [],
   "source": [
    "import easynlp\n",
    "\n",
    "\n",
    "def test_single_classification():\n",
    "    data = {\n",
    "        \"text\": [\n",
    "            \"I love playing soccer.\",\n",
    "        ]\n",
    "    }\n",
    "    labels = [\"sport\", \"weather\", \"business\"]\n",
    "    input_column = \"text\"\n",
    "    output_column = \"classification\"\n",
    "    output_dataset = easynlp.classification(data, labels, input_column, output_column)\n",
    "    assert len(output_dataset) == 1\n",
    "    assert output_dataset[output_column] == [\"sport\"]\n",
    "\n",
    "\n",
    "def test_classification():\n",
    "    data = {\n",
    "        \"text\": [\n",
    "            \"I love playing soccer.\",\n",
    "            \"It is really sunny today.\",\n",
    "            \"The stock market is down 10% today.\",\n",
    "        ]\n",
    "    }\n",
    "    labels = [\"sport\", \"weather\", \"business\"]\n",
    "    input_column = \"text\"\n",
    "    output_column = \"classification\"\n",
    "    output_dataset = easynlp.classification(data, labels, input_column, output_column)\n",
    "    assert len(output_dataset) == 3\n",
    "    assert output_dataset[output_column] == labels\n"
   ]
  },
  {
   "cell_type": "markdown",
   "id": "699ad7c4",
   "metadata": {},
   "source": [
    "## Sequence Classification\n",
    "---------------"
   ]
  },
  {
   "cell_type": "code",
   "execution_count": 33,
   "id": "eccdd6d6",
   "metadata": {},
   "outputs": [
    {
     "name": "stderr",
     "output_type": "stream",
     "text": [
      "The `xla_device` argument has been deprecated in v4.4.0 of Transformers. It is ignored and you can safely remove it from your `config.json` file.\n",
      "The `xla_device` argument has been deprecated in v4.4.0 of Transformers. It is ignored and you can safely remove it from your `config.json` file.\n",
      "The `xla_device` argument has been deprecated in v4.4.0 of Transformers. It is ignored and you can safely remove it from your `config.json` file.\n",
      "The `xla_device` argument has been deprecated in v4.4.0 of Transformers. It is ignored and you can safely remove it from your `config.json` file.\n"
     ]
    },
    {
     "data": {
      "application/vnd.jupyter.widget-view+json": {
       "model_id": "bf53626495cc48c4aa8d918f1e48917f",
       "version_major": 2,
       "version_minor": 0
      },
      "text/plain": [
       "  0%|          | 0/1 [00:00<?, ?ba/s]"
      ]
     },
     "metadata": {},
     "output_type": "display_data"
    },
    {
     "data": {
      "text/plain": [
       "['business', 'weather', 'sport', 'business']"
      ]
     },
     "execution_count": 33,
     "metadata": {},
     "output_type": "execute_result"
    }
   ],
   "source": [
    "import easynlp\n",
    "\n",
    "data = {\n",
    "        \"text\": [\n",
    "            \"The stock market is down 10% today.\",\n",
    "            \"It is really sunny today.\",\n",
    "            \"I love playing soccer.\",\n",
    "            \"The market is crash\"\n",
    "            ]\n",
    "        }\n",
    "labels = [\"sport\", \"weather\", \"business\"]\n",
    "\n",
    "output_dataset = easynlp.classification(data, labels)\n",
    "output_dataset['classification']"
   ]
  },
  {
   "cell_type": "code",
   "execution_count": 34,
   "id": "7ef73ce3",
   "metadata": {},
   "outputs": [],
   "source": [
    "actual_labels = [\"business\", \"weather\", \"sport\", \"business\"]\n",
    "assert output_dataset[\"classification\"] == actual_labels"
   ]
  },
  {
   "cell_type": "markdown",
   "id": "706307c6",
   "metadata": {},
   "source": [
    "## Translation"
   ]
  },
  {
   "cell_type": "code",
   "execution_count": 1,
   "id": "c4d66797",
   "metadata": {},
   "outputs": [
    {
     "data": {
      "application/vnd.jupyter.widget-view+json": {
       "model_id": "fb4004a50fca4ec1bd393f64c8082e84",
       "version_major": 2,
       "version_minor": 0
      },
      "text/plain": [
       "Downloading:   0%|          | 0.00/750k [00:00<?, ?B/s]"
      ]
     },
     "metadata": {},
     "output_type": "display_data"
    },
    {
     "data": {
      "application/vnd.jupyter.widget-view+json": {
       "model_id": "558d6067442848ad8433c0d3f7740177",
       "version_major": 2,
       "version_minor": 0
      },
      "text/plain": [
       "Downloading:   0%|          | 0.00/778k [00:00<?, ?B/s]"
      ]
     },
     "metadata": {},
     "output_type": "display_data"
    },
    {
     "data": {
      "application/vnd.jupyter.widget-view+json": {
       "model_id": "98ad8d0dbc294720a94c7f4bc5411059",
       "version_major": 2,
       "version_minor": 0
      },
      "text/plain": [
       "Downloading:   0%|          | 0.00/1.21M [00:00<?, ?B/s]"
      ]
     },
     "metadata": {},
     "output_type": "display_data"
    },
    {
     "name": "stderr",
     "output_type": "stream",
     "text": [
      "/opt/anaconda3/lib/python3.8/site-packages/transformers/models/marian/tokenization_marian.py:196: UserWarning: Recommended: pip install sacremoses.\n",
      "  warnings.warn(\"Recommended: pip install sacremoses.\")\n"
     ]
    },
    {
     "data": {
      "application/vnd.jupyter.widget-view+json": {
       "model_id": "a23f9a4f3d43408b8c54a2f3e3b12203",
       "version_major": 2,
       "version_minor": 0
      },
      "text/plain": [
       "  0%|          | 0/1 [00:00<?, ?ba/s]"
      ]
     },
     "metadata": {},
     "output_type": "display_data"
    }
   ],
   "source": [
    "# Translation\n",
    "import easynlp\n",
    "\n",
    "data = {\n",
    "    \"text\": [\n",
    "        \"I love playing soccer.\",\n",
    "        \"It is really sunny today.\",\n",
    "        \"The stock market is down 10% today.\",\n",
    "            ]\n",
    "        }\n",
    "output_language = \"de\"\n",
    "\n",
    "output_dataset = easynlp.translation(data, output_language)"
   ]
  },
  {
   "cell_type": "code",
   "execution_count": 2,
   "id": "fc5d82d3",
   "metadata": {},
   "outputs": [
    {
     "data": {
      "text/plain": [
       "['Ich spiele gern Fußball.',\n",
       " 'Heute ist es wirklich sonnig.',\n",
       " 'Die Börse ist heute um 10% gesunken.']"
      ]
     },
     "execution_count": 2,
     "metadata": {},
     "output_type": "execute_result"
    }
   ],
   "source": [
    "output_dataset[\"translation\"]"
   ]
  },
  {
   "cell_type": "code",
   "execution_count": 3,
   "id": "6271edb0",
   "metadata": {},
   "outputs": [],
   "source": [
    "translated_text = [\n",
    "    \"Ich spiele gern Fußball.\",\n",
    "    \"Heute ist es wirklich sonnig.\",\n",
    "    \"Die Börse ist heute um 10% gesunken.\",\n",
    "    ]\n",
    "\n",
    "assert output_dataset[\"translation\"] == translated_text"
   ]
  },
  {
   "cell_type": "markdown",
   "id": "25abb2a2",
   "metadata": {},
   "source": [
    "## Named Entity Recognition (NER)\n"
   ]
  },
  {
   "cell_type": "code",
   "execution_count": 4,
   "id": "3517ac9d",
   "metadata": {},
   "outputs": [
    {
     "data": {
      "application/vnd.jupyter.widget-view+json": {
       "model_id": "49c2e51a5ac14463986612e252e43ee9",
       "version_major": 2,
       "version_minor": 0
      },
      "text/plain": [
       "  0%|          | 0/1 [00:00<?, ?ba/s]"
      ]
     },
     "metadata": {},
     "output_type": "display_data"
    }
   ],
   "source": [
    "import easynlp\n",
    "\n",
    "data = {\n",
    "    \"text\": [\n",
    "        \"My name is Ben. I live in Scotland and work for Microsoft.\",\n",
    "        \"My name is Ben.\",\n",
    "        \"I live in Scotland.\",\n",
    "        \"I work for Microsoft.\",\n",
    "            ]\n",
    "        }\n",
    "\n",
    "output_dataset = easynlp.ner(data)"
   ]
  },
  {
   "cell_type": "code",
   "execution_count": 5,
   "id": "e2ca983c",
   "metadata": {},
   "outputs": [
    {
     "data": {
      "text/plain": [
       "[['PER', 'LOC', 'ORG'], ['PER'], ['LOC'], ['ORG']]"
      ]
     },
     "execution_count": 5,
     "metadata": {},
     "output_type": "execute_result"
    }
   ],
   "source": [
    "output_dataset[\"ner_tags\"]"
   ]
  },
  {
   "cell_type": "code",
   "execution_count": 6,
   "id": "cfa6f27c",
   "metadata": {},
   "outputs": [
    {
     "data": {
      "text/plain": [
       "[[11, 26, 48], [11], [10], [11]]"
      ]
     },
     "execution_count": 6,
     "metadata": {},
     "output_type": "execute_result"
    }
   ],
   "source": [
    "output_dataset[\"ner_start_offsets\"]"
   ]
  },
  {
   "cell_type": "code",
   "execution_count": 7,
   "id": "0393bd71",
   "metadata": {},
   "outputs": [
    {
     "data": {
      "text/plain": [
       "[[14, 34, 57], [14], [18], [20]]"
      ]
     },
     "execution_count": 7,
     "metadata": {},
     "output_type": "execute_result"
    }
   ],
   "source": [
    "output_dataset[\"ner_end_offsets\"]"
   ]
  },
  {
   "cell_type": "code",
   "execution_count": 13,
   "id": "c2aa1b0c",
   "metadata": {},
   "outputs": [],
   "source": [
    "# ner_tags = [[\"PER\", \"LOC\", \"ORG\"], [\"PER\"], [\"LOC\"], [\"ORG\"]]\n",
    "# ner_tags_starts = [[11, 26, 48], [11], [10], [11]]\n",
    "# ner_tags_ends = [[14, 34, 57], [14], [18], [20]]\n",
    "\n",
    "# assert output_dataset[\"ner_tags\"] == ner_tags\n",
    "# assert output_dataset[\"ner_start_offsets\"] == ner_tags_starts\n",
    "# assert output_dataset[\"ner_end_offsets\"] == ner_tags_ends\n"
   ]
  },
  {
   "cell_type": "markdown",
   "id": "3be97dd3",
   "metadata": {},
   "source": [
    "## Summarization\n"
   ]
  },
  {
   "cell_type": "code",
   "execution_count": 11,
   "id": "baea19d7",
   "metadata": {},
   "outputs": [
    {
     "data": {
      "application/vnd.jupyter.widget-view+json": {
       "model_id": "71d0a92173134543b887996da8382fbd",
       "version_major": 2,
       "version_minor": 0
      },
      "text/plain": [
       "  0%|          | 0/1 [00:00<?, ?ba/s]"
      ]
     },
     "metadata": {},
     "output_type": "display_data"
    }
   ],
   "source": [
    "import easynlp\n",
    "\n",
    "data = {\n",
    "        \"text\": [\n",
    "            \"\"\"The warning begins at 22:00 GMT on Saturday and\n",
    "               ends at 10:00 on Sunday. The ice could lead to\n",
    "               difficult driving conditions on untreated roads\n",
    "               and slippery conditions on pavements, the weather\n",
    "               service warned. Only the southernmost counties and\n",
    "               parts of the most westerly counties are expected\n",
    "               to escape. Counties expected to be affected are\n",
    "               Carmarthenshire, Powys, Ceredigion, Pembrokeshire,\n",
    "               Denbighshire, Gwynedd, Wrexham, Conwy, Flintshire,\n",
    "               Anglesey, Monmouthshire, Blaenau Gwent,\n",
    "               Caerphilly, Merthyr Tydfil, Neath Port Talbot,\n",
    "               Rhondda Cynon Taff and Torfaen.\"\"\",\n",
    "                ]\n",
    "        }\n",
    "\n",
    "output_dataset = easynlp.summarization(data)"
   ]
  },
  {
   "cell_type": "code",
   "execution_count": 9,
   "id": "c9d02b9f",
   "metadata": {},
   "outputs": [
    {
     "data": {
      "text/plain": [
       "['The Met Office has issued a yellow \"be aware\" warning for ice across much of Wales.']"
      ]
     },
     "execution_count": 9,
     "metadata": {},
     "output_type": "execute_result"
    }
   ],
   "source": [
    "output_dataset['summarization']"
   ]
  },
  {
   "cell_type": "code",
   "execution_count": 10,
   "id": "84bd1b1f",
   "metadata": {},
   "outputs": [],
   "source": [
    "summarized_text = ['The Met Office has issued a yellow \"be aware\" warning for ice across much of Wales.']\n",
    "assert output_dataset[\"summarization\"] == summarized_text"
   ]
  },
  {
   "cell_type": "markdown",
   "id": "75b46826",
   "metadata": {},
   "source": [
    "## Question Answering\n"
   ]
  },
  {
   "cell_type": "code",
   "execution_count": 14,
   "id": "f06d0ade",
   "metadata": {},
   "outputs": [
    {
     "data": {
      "application/vnd.jupyter.widget-view+json": {
       "model_id": "de9d7506ed424171a3e18d69f576c7ed",
       "version_major": 2,
       "version_minor": 0
      },
      "text/plain": [
       "  0%|          | 0/1 [00:00<?, ?ba/s]"
      ]
     },
     "metadata": {},
     "output_type": "display_data"
    }
   ],
   "source": [
    "import easynlp\n",
    "\n",
    "data = {\n",
    "        \"text\": [\n",
    "            \"What is extractive question answering?\",\n",
    "                ],\n",
    "        \"context\": [\n",
    "            \"\"\"Extractive Question Answering is the task of extracting an answer from a text given a question.\n",
    "               An example of a question answering dataset is the SQuAD dataset, which is entirely based on that task.\n",
    "               If you would like to fine-tune a model on a SQuAD task, you may leverage the examples/pytorch/question-answering/run_squad.py script.\"\"\",\n",
    "                   ],\n",
    "       }\n",
    "\n",
    "output_dataset = easynlp.question_answering(data)\n"
   ]
  },
  {
   "cell_type": "code",
   "execution_count": 15,
   "id": "2ecae841",
   "metadata": {},
   "outputs": [
    {
     "data": {
      "text/plain": [
       "['the task of extracting an answer from a text given a question']"
      ]
     },
     "execution_count": 15,
     "metadata": {},
     "output_type": "execute_result"
    }
   ],
   "source": [
    "output_dataset[\"answer\"]"
   ]
  },
  {
   "cell_type": "code",
   "execution_count": 16,
   "id": "c4b67589",
   "metadata": {},
   "outputs": [],
   "source": [
    "answers = [\"the task of extracting an answer from a text given a question\"]\n",
    "assert output_dataset[\"answer\"] == answers"
   ]
  },
  {
   "cell_type": "code",
   "execution_count": null,
   "id": "4ce925ac",
   "metadata": {},
   "outputs": [],
   "source": []
  },
  {
   "cell_type": "code",
   "execution_count": null,
   "id": "9e61df59",
   "metadata": {},
   "outputs": [],
   "source": []
  }
 ],
 "metadata": {
  "kernelspec": {
   "display_name": "Python 3",
   "language": "python",
   "name": "python3"
  },
  "language_info": {
   "codemirror_mode": {
    "name": "ipython",
    "version": 3
   },
   "file_extension": ".py",
   "mimetype": "text/x-python",
   "name": "python",
   "nbconvert_exporter": "python",
   "pygments_lexer": "ipython3",
   "version": "3.8.8"
  }
 },
 "nbformat": 4,
 "nbformat_minor": 5
}
